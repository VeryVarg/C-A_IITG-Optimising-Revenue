{
 "cells": [
  {
   "cell_type": "code",
   "execution_count": 1,
   "id": "5c1ca3d2",
   "metadata": {
    "_cell_guid": "b1076dfc-b9ad-4769-8c92-a6c4dae69d19",
    "_uuid": "8f2839f25d086af736a60e9eeb907d3b93b6e0e5",
    "execution": {
     "iopub.execute_input": "2025-05-13T14:08:19.020602Z",
     "iopub.status.busy": "2025-05-13T14:08:19.020294Z",
     "iopub.status.idle": "2025-05-13T14:08:21.035259Z",
     "shell.execute_reply": "2025-05-13T14:08:21.034040Z"
    },
    "papermill": {
     "duration": 2.023943,
     "end_time": "2025-05-13T14:08:21.037151",
     "exception": false,
     "start_time": "2025-05-13T14:08:19.013208",
     "status": "completed"
    },
    "tags": []
   },
   "outputs": [
    {
     "name": "stdout",
     "output_type": "stream",
     "text": [
      "/kaggle/input/optimising-revenue-dataset/PS2/fact_aggregated_bookings.csv\n",
      "/kaggle/input/optimising-revenue-dataset/PS2/dim_hotels.csv\n",
      "/kaggle/input/optimising-revenue-dataset/PS2/dim_rooms.csv\n",
      "/kaggle/input/optimising-revenue-dataset/PS2/dim_date.csv\n",
      "/kaggle/input/optimising-revenue-dataset/PS2/fact_bookings.csv\n"
     ]
    }
   ],
   "source": [
    "# This Python 3 environment comes with many helpful analytics libraries installed\n",
    "# It is defined by the kaggle/python Docker image: https://github.com/kaggle/docker-python\n",
    "# For example, here's several helpful packages to load\n",
    "\n",
    "import numpy as np # linear algebra\n",
    "import pandas as pd # data processing, CSV file I/O (e.g. pd.read_csv)\n",
    "\n",
    "# Input data files are available in the read-only \"../input/\" directory\n",
    "# For example, running this (by clicking run or pressing Shift+Enter) will list all files under the input directory\n",
    "\n",
    "import os\n",
    "for dirname, _, filenames in os.walk('/kaggle/input'):\n",
    "    for filename in filenames:\n",
    "        print(os.path.join(dirname, filename))\n",
    "\n",
    "# You can write up to 20GB to the current directory (/kaggle/working/) that gets preserved as output when you create a version using \"Save & Run All\" \n",
    "# You can also write temporary files to /kaggle/temp/, but they won't be saved outside of the current session"
   ]
  },
  {
   "cell_type": "markdown",
   "id": "13de9e29",
   "metadata": {
    "papermill": {
     "duration": 0.004845,
     "end_time": "2025-05-13T14:08:21.047367",
     "exception": false,
     "start_time": "2025-05-13T14:08:21.042522",
     "status": "completed"
    },
    "tags": []
   },
   "source": [
    "# Exploring DataFrames"
   ]
  },
  {
   "cell_type": "code",
   "execution_count": 2,
   "id": "f3a24c4d",
   "metadata": {
    "execution": {
     "iopub.execute_input": "2025-05-13T14:08:21.059036Z",
     "iopub.status.busy": "2025-05-13T14:08:21.058374Z",
     "iopub.status.idle": "2025-05-13T14:08:21.707195Z",
     "shell.execute_reply": "2025-05-13T14:08:21.706008Z"
    },
    "papermill": {
     "duration": 0.656762,
     "end_time": "2025-05-13T14:08:21.709058",
     "exception": false,
     "start_time": "2025-05-13T14:08:21.052296",
     "status": "completed"
    },
    "tags": []
   },
   "outputs": [],
   "source": [
    "dim_date = pd.read_csv(\"/kaggle/input/optimising-revenue-dataset/PS2/dim_date.csv\")\n",
    "dim_hotels = pd.read_csv(\"/kaggle/input/optimising-revenue-dataset/PS2/dim_hotels.csv\")\n",
    "dim_rooms = pd.read_csv(\"/kaggle/input/optimising-revenue-dataset/PS2/dim_rooms.csv\")\n",
    "fact_aggregated_bookings = pd.read_csv(\"/kaggle/input/optimising-revenue-dataset/PS2/fact_aggregated_bookings.csv\")\n",
    "fact_bookings = pd.read_csv(\"/kaggle/input/optimising-revenue-dataset/PS2/fact_bookings.csv\")"
   ]
  },
  {
   "cell_type": "code",
   "execution_count": 3,
   "id": "8a7c4fed",
   "metadata": {
    "execution": {
     "iopub.execute_input": "2025-05-13T14:08:21.720602Z",
     "iopub.status.busy": "2025-05-13T14:08:21.720323Z",
     "iopub.status.idle": "2025-05-13T14:08:21.724775Z",
     "shell.execute_reply": "2025-05-13T14:08:21.723919Z"
    },
    "papermill": {
     "duration": 0.012079,
     "end_time": "2025-05-13T14:08:21.726330",
     "exception": false,
     "start_time": "2025-05-13T14:08:21.714251",
     "status": "completed"
    },
    "tags": []
   },
   "outputs": [],
   "source": [
    "dataframes = [dim_date,dim_hotels,dim_rooms,fact_aggregated_bookings,fact_bookings]"
   ]
  },
  {
   "cell_type": "code",
   "execution_count": 4,
   "id": "d6c9aefc",
   "metadata": {
    "execution": {
     "iopub.execute_input": "2025-05-13T14:08:21.738093Z",
     "iopub.status.busy": "2025-05-13T14:08:21.737620Z",
     "iopub.status.idle": "2025-05-13T14:08:21.763076Z",
     "shell.execute_reply": "2025-05-13T14:08:21.762017Z"
    },
    "papermill": {
     "duration": 0.033072,
     "end_time": "2025-05-13T14:08:21.764601",
     "exception": false,
     "start_time": "2025-05-13T14:08:21.731529",
     "status": "completed"
    },
    "tags": []
   },
   "outputs": [
    {
     "data": {
      "text/html": [
       "<div>\n",
       "<style scoped>\n",
       "    .dataframe tbody tr th:only-of-type {\n",
       "        vertical-align: middle;\n",
       "    }\n",
       "\n",
       "    .dataframe tbody tr th {\n",
       "        vertical-align: top;\n",
       "    }\n",
       "\n",
       "    .dataframe thead th {\n",
       "        text-align: right;\n",
       "    }\n",
       "</style>\n",
       "<table border=\"1\" class=\"dataframe\">\n",
       "  <thead>\n",
       "    <tr style=\"text-align: right;\">\n",
       "      <th></th>\n",
       "      <th>date</th>\n",
       "      <th>mmm yy</th>\n",
       "      <th>week no</th>\n",
       "      <th>day_type</th>\n",
       "    </tr>\n",
       "  </thead>\n",
       "  <tbody>\n",
       "    <tr>\n",
       "      <th>0</th>\n",
       "      <td>01-May-22</td>\n",
       "      <td>May 22</td>\n",
       "      <td>W 19</td>\n",
       "      <td>weekend</td>\n",
       "    </tr>\n",
       "    <tr>\n",
       "      <th>1</th>\n",
       "      <td>02-May-22</td>\n",
       "      <td>May 22</td>\n",
       "      <td>W 19</td>\n",
       "      <td>weekeday</td>\n",
       "    </tr>\n",
       "    <tr>\n",
       "      <th>2</th>\n",
       "      <td>03-May-22</td>\n",
       "      <td>May 22</td>\n",
       "      <td>W 19</td>\n",
       "      <td>weekeday</td>\n",
       "    </tr>\n",
       "    <tr>\n",
       "      <th>3</th>\n",
       "      <td>04-May-22</td>\n",
       "      <td>May 22</td>\n",
       "      <td>W 19</td>\n",
       "      <td>weekeday</td>\n",
       "    </tr>\n",
       "    <tr>\n",
       "      <th>4</th>\n",
       "      <td>05-May-22</td>\n",
       "      <td>May 22</td>\n",
       "      <td>W 19</td>\n",
       "      <td>weekeday</td>\n",
       "    </tr>\n",
       "  </tbody>\n",
       "</table>\n",
       "</div>"
      ],
      "text/plain": [
       "        date  mmm yy week no  day_type\n",
       "0  01-May-22  May 22    W 19   weekend\n",
       "1  02-May-22  May 22    W 19  weekeday\n",
       "2  03-May-22  May 22    W 19  weekeday\n",
       "3  04-May-22  May 22    W 19  weekeday\n",
       "4  05-May-22  May 22    W 19  weekeday"
      ]
     },
     "execution_count": 4,
     "metadata": {},
     "output_type": "execute_result"
    }
   ],
   "source": [
    "dim_date.head()"
   ]
  },
  {
   "cell_type": "code",
   "execution_count": 5,
   "id": "35c989b8",
   "metadata": {
    "execution": {
     "iopub.execute_input": "2025-05-13T14:08:21.776260Z",
     "iopub.status.busy": "2025-05-13T14:08:21.775916Z",
     "iopub.status.idle": "2025-05-13T14:08:21.875242Z",
     "shell.execute_reply": "2025-05-13T14:08:21.873992Z"
    },
    "papermill": {
     "duration": 0.106884,
     "end_time": "2025-05-13T14:08:21.876780",
     "exception": false,
     "start_time": "2025-05-13T14:08:21.769896",
     "status": "completed"
    },
    "tags": []
   },
   "outputs": [
    {
     "name": "stdout",
     "output_type": "stream",
     "text": [
      "<class 'pandas.core.frame.DataFrame'>\n",
      "RangeIndex: 92 entries, 0 to 91\n",
      "Data columns (total 4 columns):\n",
      " #   Column    Non-Null Count  Dtype \n",
      "---  ------    --------------  ----- \n",
      " 0   date      92 non-null     object\n",
      " 1   mmm yy    92 non-null     object\n",
      " 2   week no   92 non-null     object\n",
      " 3   day_type  92 non-null     object\n",
      "dtypes: object(4)\n",
      "memory usage: 3.0+ KB\n",
      "None\n",
      "<class 'pandas.core.frame.DataFrame'>\n",
      "RangeIndex: 25 entries, 0 to 24\n",
      "Data columns (total 4 columns):\n",
      " #   Column         Non-Null Count  Dtype \n",
      "---  ------         --------------  ----- \n",
      " 0   property_id    25 non-null     int64 \n",
      " 1   property_name  25 non-null     object\n",
      " 2   category       25 non-null     object\n",
      " 3   city           25 non-null     object\n",
      "dtypes: int64(1), object(3)\n",
      "memory usage: 932.0+ bytes\n",
      "None\n",
      "<class 'pandas.core.frame.DataFrame'>\n",
      "RangeIndex: 4 entries, 0 to 3\n",
      "Data columns (total 2 columns):\n",
      " #   Column      Non-Null Count  Dtype \n",
      "---  ------      --------------  ----- \n",
      " 0   room_id     4 non-null      object\n",
      " 1   room_class  4 non-null      object\n",
      "dtypes: object(2)\n",
      "memory usage: 196.0+ bytes\n",
      "None\n",
      "<class 'pandas.core.frame.DataFrame'>\n",
      "RangeIndex: 9200 entries, 0 to 9199\n",
      "Data columns (total 5 columns):\n",
      " #   Column               Non-Null Count  Dtype \n",
      "---  ------               --------------  ----- \n",
      " 0   property_id          9200 non-null   int64 \n",
      " 1   check_in_date        9200 non-null   object\n",
      " 2   room_category        9200 non-null   object\n",
      " 3   successful_bookings  9200 non-null   int64 \n",
      " 4   capacity             9200 non-null   int64 \n",
      "dtypes: int64(3), object(2)\n",
      "memory usage: 359.5+ KB\n",
      "None\n",
      "<class 'pandas.core.frame.DataFrame'>\n",
      "RangeIndex: 134590 entries, 0 to 134589\n",
      "Data columns (total 12 columns):\n",
      " #   Column             Non-Null Count   Dtype  \n",
      "---  ------             --------------   -----  \n",
      " 0   booking_id         134590 non-null  object \n",
      " 1   property_id        134590 non-null  int64  \n",
      " 2   booking_date       134590 non-null  object \n",
      " 3   check_in_date      134590 non-null  object \n",
      " 4   checkout_date      134590 non-null  object \n",
      " 5   no_guests          134590 non-null  int64  \n",
      " 6   room_category      134590 non-null  object \n",
      " 7   booking_platform   134590 non-null  object \n",
      " 8   ratings_given      56683 non-null   float64\n",
      " 9   booking_status     134590 non-null  object \n",
      " 10  revenue_generated  134590 non-null  int64  \n",
      " 11  revenue_realized   134590 non-null  int64  \n",
      "dtypes: float64(1), int64(4), object(7)\n",
      "memory usage: 12.3+ MB\n",
      "None\n"
     ]
    }
   ],
   "source": [
    "for i in dataframes:\n",
    "    print(i.info())"
   ]
  },
  {
   "cell_type": "code",
   "execution_count": 6,
   "id": "3b58b25d",
   "metadata": {
    "execution": {
     "iopub.execute_input": "2025-05-13T14:08:21.888939Z",
     "iopub.status.busy": "2025-05-13T14:08:21.888595Z",
     "iopub.status.idle": "2025-05-13T14:08:21.906466Z",
     "shell.execute_reply": "2025-05-13T14:08:21.905403Z"
    },
    "papermill": {
     "duration": 0.026028,
     "end_time": "2025-05-13T14:08:21.908230",
     "exception": false,
     "start_time": "2025-05-13T14:08:21.882202",
     "status": "completed"
    },
    "tags": []
   },
   "outputs": [
    {
     "name": "stdout",
     "output_type": "stream",
     "text": [
      "        date  mmm yy week no  day_type\n",
      "0  01-May-22  May 22    W 19   weekend\n",
      "1  02-May-22  May 22    W 19  weekeday\n",
      "2  03-May-22  May 22    W 19  weekeday\n",
      "3  04-May-22  May 22    W 19  weekeday\n",
      "4  05-May-22  May 22    W 19  weekeday\n",
      "5  06-May-22  May 22    W 19  weekeday\n",
      "6  07-May-22  May 22    W 19   weekend\n",
      "7  08-May-22  May 22    W 20   weekend\n",
      "8  09-May-22  May 22    W 20  weekeday\n",
      "9  10-May-22  May 22    W 20  weekeday\n",
      "\n",
      "\n",
      "   property_id  property_name  category    city\n",
      "0        16558   Atliq Grands    Luxury   Delhi\n",
      "1        16559  Atliq Exotica    Luxury  Mumbai\n",
      "2        16560     Atliq City  Business   Delhi\n",
      "3        16561      Atliq Blu    Luxury   Delhi\n",
      "4        16562      Atliq Bay    Luxury   Delhi\n",
      "5        16563   Atliq Palace  Business   Delhi\n",
      "6        17558   Atliq Grands    Luxury  Mumbai\n",
      "7        17559  Atliq Exotica    Luxury  Mumbai\n",
      "8        17560     Atliq City  Business  Mumbai\n",
      "9        17561      Atliq Blu    Luxury  Mumbai\n",
      "\n",
      "\n",
      "  room_id    room_class\n",
      "0     RT1      Standard\n",
      "1     RT2         Elite\n",
      "2     RT3       Premium\n",
      "3     RT4  Presidential\n",
      "\n",
      "\n",
      "   property_id check_in_date room_category  successful_bookings  capacity\n",
      "0        16559     01-May-22           RT1                   25        30\n",
      "1        19562     01-May-22           RT1                   28        30\n",
      "2        19563     01-May-22           RT1                   23        30\n",
      "3        17558     01-May-22           RT1                   13        19\n",
      "4        16558     01-May-22           RT1                   18        19\n",
      "5        17560     01-May-22           RT1                   28        40\n",
      "6        19558     01-May-22           RT1                   25        40\n",
      "7        19560     01-May-22           RT1                   23        26\n",
      "8        17561     01-May-22           RT1                   22        26\n",
      "9        16560     01-May-22           RT1                   24        34\n",
      "\n",
      "\n",
      "          booking_id  property_id booking_date check_in_date checkout_date  \\\n",
      "0   May012216558RT11        16558   2022-04-27    2022-05-01    2022-05-02   \n",
      "1   May012216558RT12        16558   2022-04-30    2022-05-01    2022-05-02   \n",
      "2   May012216558RT13        16558   2022-04-28    2022-05-01    2022-05-04   \n",
      "3   May012216558RT14        16558   2022-04-28    2022-05-01    2022-05-02   \n",
      "4   May012216558RT15        16558   2022-04-27    2022-05-01    2022-05-02   \n",
      "5   May012216558RT16        16558   2022-05-01    2022-05-01    2022-05-03   \n",
      "6   May012216558RT17        16558   2022-04-28    2022-05-01    2022-05-06   \n",
      "7   May012216558RT18        16558   2022-04-26    2022-05-01    2022-05-03   \n",
      "8   May012216558RT19        16558   2022-04-30    2022-05-01    2022-05-02   \n",
      "9  May012216558RT110        16558   2022-04-28    2022-05-01    2022-05-02   \n",
      "\n",
      "   no_guests room_category booking_platform  ratings_given booking_status  \\\n",
      "0          3           RT1    direct online            1.0    Checked Out   \n",
      "1          2           RT1           others            NaN      Cancelled   \n",
      "2          2           RT1          logtrip            5.0    Checked Out   \n",
      "3          2           RT1           others            NaN      Cancelled   \n",
      "4          4           RT1    direct online            5.0    Checked Out   \n",
      "5          2           RT1           others            4.0    Checked Out   \n",
      "6          2           RT1           others            NaN      Cancelled   \n",
      "7          2           RT1          logtrip            NaN        No Show   \n",
      "8          2           RT1         tripster            NaN    Checked Out   \n",
      "9          1           RT1           others            4.0    Checked Out   \n",
      "\n",
      "   revenue_generated  revenue_realized  \n",
      "0              10010             10010  \n",
      "1               9100              3640  \n",
      "2               9100              9100  \n",
      "3               9100              3640  \n",
      "4              10920             10920  \n",
      "5               9100              9100  \n",
      "6               9100              3640  \n",
      "7               9100              9100  \n",
      "8               9100              9100  \n",
      "9               9100              9100  \n",
      "\n",
      "\n"
     ]
    },
    {
     "name": "stderr",
     "output_type": "stream",
     "text": [
      "/usr/local/lib/python3.11/dist-packages/pandas/io/formats/format.py:1458: RuntimeWarning: invalid value encountered in greater\n",
      "  has_large_values = (abs_vals > 1e6).any()\n",
      "/usr/local/lib/python3.11/dist-packages/pandas/io/formats/format.py:1459: RuntimeWarning: invalid value encountered in less\n",
      "  has_small_values = ((abs_vals < 10 ** (-self.digits)) & (abs_vals > 0)).any()\n",
      "/usr/local/lib/python3.11/dist-packages/pandas/io/formats/format.py:1459: RuntimeWarning: invalid value encountered in greater\n",
      "  has_small_values = ((abs_vals < 10 ** (-self.digits)) & (abs_vals > 0)).any()\n"
     ]
    }
   ],
   "source": [
    "for i in dataframes:\n",
    "    print(i.head(10))\n",
    "    print(\"\\n\")"
   ]
  },
  {
   "cell_type": "markdown",
   "id": "71c25e2f",
   "metadata": {
    "papermill": {
     "duration": 0.005884,
     "end_time": "2025-05-13T14:08:21.919901",
     "exception": false,
     "start_time": "2025-05-13T14:08:21.914017",
     "status": "completed"
    },
    "tags": []
   },
   "source": [
    "# Fixing Problems with Data"
   ]
  },
  {
   "cell_type": "markdown",
   "id": "8fe982bb",
   "metadata": {
    "papermill": {
     "duration": 0.005211,
     "end_time": "2025-05-13T14:08:21.930976",
     "exception": false,
     "start_time": "2025-05-13T14:08:21.925765",
     "status": "completed"
    },
    "tags": []
   },
   "source": [
    "**dim_rooms needs conversion of room_id and room_class into category**"
   ]
  },
  {
   "cell_type": "code",
   "execution_count": 7,
   "id": "308a9b40",
   "metadata": {
    "execution": {
     "iopub.execute_input": "2025-05-13T14:08:21.943918Z",
     "iopub.status.busy": "2025-05-13T14:08:21.943279Z",
     "iopub.status.idle": "2025-05-13T14:08:21.950337Z",
     "shell.execute_reply": "2025-05-13T14:08:21.949392Z"
    },
    "papermill": {
     "duration": 0.015272,
     "end_time": "2025-05-13T14:08:21.952227",
     "exception": false,
     "start_time": "2025-05-13T14:08:21.936955",
     "status": "completed"
    },
    "tags": []
   },
   "outputs": [],
   "source": [
    "dim_rooms[\"room_id\"] = dim_rooms[\"room_id\"].astype(\"category\")\n",
    "dim_rooms[\"room_class\"] = dim_rooms[\"room_class\"].astype(\"category\")"
   ]
  },
  {
   "cell_type": "markdown",
   "id": "e820c282",
   "metadata": {
    "papermill": {
     "duration": 0.005729,
     "end_time": "2025-05-13T14:08:21.963640",
     "exception": false,
     "start_time": "2025-05-13T14:08:21.957911",
     "status": "completed"
    },
    "tags": []
   },
   "source": [
    "**dim_hotels needs to convert city and category into category format**"
   ]
  },
  {
   "cell_type": "code",
   "execution_count": 8,
   "id": "8f161ee7",
   "metadata": {
    "execution": {
     "iopub.execute_input": "2025-05-13T14:08:21.975659Z",
     "iopub.status.busy": "2025-05-13T14:08:21.975382Z",
     "iopub.status.idle": "2025-05-13T14:08:21.985029Z",
     "shell.execute_reply": "2025-05-13T14:08:21.983835Z"
    },
    "papermill": {
     "duration": 0.017591,
     "end_time": "2025-05-13T14:08:21.986707",
     "exception": false,
     "start_time": "2025-05-13T14:08:21.969116",
     "status": "completed"
    },
    "tags": []
   },
   "outputs": [
    {
     "name": "stdout",
     "output_type": "stream",
     "text": [
      "<class 'pandas.core.frame.DataFrame'>\n",
      "RangeIndex: 25 entries, 0 to 24\n",
      "Data columns (total 4 columns):\n",
      " #   Column         Non-Null Count  Dtype \n",
      "---  ------         --------------  ----- \n",
      " 0   property_id    25 non-null     int64 \n",
      " 1   property_name  25 non-null     object\n",
      " 2   category       25 non-null     object\n",
      " 3   city           25 non-null     object\n",
      "dtypes: int64(1), object(3)\n",
      "memory usage: 932.0+ bytes\n"
     ]
    }
   ],
   "source": [
    "dim_hotels.info()"
   ]
  },
  {
   "cell_type": "code",
   "execution_count": 9,
   "id": "c4817be1",
   "metadata": {
    "execution": {
     "iopub.execute_input": "2025-05-13T14:08:21.999750Z",
     "iopub.status.busy": "2025-05-13T14:08:21.999392Z",
     "iopub.status.idle": "2025-05-13T14:08:22.006836Z",
     "shell.execute_reply": "2025-05-13T14:08:22.005809Z"
    },
    "papermill": {
     "duration": 0.016226,
     "end_time": "2025-05-13T14:08:22.008758",
     "exception": false,
     "start_time": "2025-05-13T14:08:21.992532",
     "status": "completed"
    },
    "tags": []
   },
   "outputs": [],
   "source": [
    "dim_hotels[\"category\"]=dim_hotels[\"category\"].astype(\"category\")\n",
    "dim_hotels[\"city\"]=dim_hotels[\"city\"].astype(\"category\")"
   ]
  },
  {
   "cell_type": "code",
   "execution_count": 10,
   "id": "7ad2cc3a",
   "metadata": {
    "execution": {
     "iopub.execute_input": "2025-05-13T14:08:22.022717Z",
     "iopub.status.busy": "2025-05-13T14:08:22.021854Z",
     "iopub.status.idle": "2025-05-13T14:08:22.034945Z",
     "shell.execute_reply": "2025-05-13T14:08:22.033836Z"
    },
    "papermill": {
     "duration": 0.021775,
     "end_time": "2025-05-13T14:08:22.036510",
     "exception": false,
     "start_time": "2025-05-13T14:08:22.014735",
     "status": "completed"
    },
    "tags": []
   },
   "outputs": [
    {
     "name": "stdout",
     "output_type": "stream",
     "text": [
      "<class 'pandas.core.frame.DataFrame'>\n",
      "RangeIndex: 25 entries, 0 to 24\n",
      "Data columns (total 4 columns):\n",
      " #   Column         Non-Null Count  Dtype   \n",
      "---  ------         --------------  -----   \n",
      " 0   property_id    25 non-null     int64   \n",
      " 1   property_name  25 non-null     object  \n",
      " 2   category       25 non-null     category\n",
      " 3   city           25 non-null     category\n",
      "dtypes: category(2), int64(1), object(1)\n",
      "memory usage: 910.0+ bytes\n"
     ]
    }
   ],
   "source": [
    "dim_hotels.info()"
   ]
  },
  {
   "cell_type": "markdown",
   "id": "3ee1f939",
   "metadata": {
    "papermill": {
     "duration": 0.005288,
     "end_time": "2025-05-13T14:08:22.047474",
     "exception": false,
     "start_time": "2025-05-13T14:08:22.042186",
     "status": "completed"
    },
    "tags": []
   },
   "source": [
    "**dim_date table needs corrected date format, delete its \"mm yy\" column (data redundancy), removing w from each row of week number and convert into integer, day_type should be converted into category**"
   ]
  },
  {
   "cell_type": "code",
   "execution_count": 11,
   "id": "1c6036b0",
   "metadata": {
    "execution": {
     "iopub.execute_input": "2025-05-13T14:08:22.060124Z",
     "iopub.status.busy": "2025-05-13T14:08:22.059744Z",
     "iopub.status.idle": "2025-05-13T14:08:22.069895Z",
     "shell.execute_reply": "2025-05-13T14:08:22.068953Z"
    },
    "papermill": {
     "duration": 0.01855,
     "end_time": "2025-05-13T14:08:22.071518",
     "exception": false,
     "start_time": "2025-05-13T14:08:22.052968",
     "status": "completed"
    },
    "tags": []
   },
   "outputs": [
    {
     "name": "stdout",
     "output_type": "stream",
     "text": [
      "<class 'pandas.core.frame.DataFrame'>\n",
      "RangeIndex: 92 entries, 0 to 91\n",
      "Data columns (total 4 columns):\n",
      " #   Column    Non-Null Count  Dtype \n",
      "---  ------    --------------  ----- \n",
      " 0   date      92 non-null     object\n",
      " 1   mmm yy    92 non-null     object\n",
      " 2   week no   92 non-null     object\n",
      " 3   day_type  92 non-null     object\n",
      "dtypes: object(4)\n",
      "memory usage: 3.0+ KB\n"
     ]
    }
   ],
   "source": [
    "dim_date.info()"
   ]
  },
  {
   "cell_type": "code",
   "execution_count": 12,
   "id": "9660ce34",
   "metadata": {
    "execution": {
     "iopub.execute_input": "2025-05-13T14:08:22.085390Z",
     "iopub.status.busy": "2025-05-13T14:08:22.085076Z",
     "iopub.status.idle": "2025-05-13T14:08:22.099919Z",
     "shell.execute_reply": "2025-05-13T14:08:22.098683Z"
    },
    "papermill": {
     "duration": 0.024363,
     "end_time": "2025-05-13T14:08:22.101841",
     "exception": false,
     "start_time": "2025-05-13T14:08:22.077478",
     "status": "completed"
    },
    "tags": []
   },
   "outputs": [
    {
     "name": "stderr",
     "output_type": "stream",
     "text": [
      "/tmp/ipykernel_13/2463475100.py:1: UserWarning: Could not infer format, so each element will be parsed individually, falling back to `dateutil`. To ensure parsing is consistent and as-expected, please specify a format.\n",
      "  dim_date[\"date\"] = pd.to_datetime(dim_date[\"date\"])\n"
     ]
    }
   ],
   "source": [
    "dim_date[\"date\"] = pd.to_datetime(dim_date[\"date\"])"
   ]
  },
  {
   "cell_type": "code",
   "execution_count": 13,
   "id": "be92f737",
   "metadata": {
    "execution": {
     "iopub.execute_input": "2025-05-13T14:08:22.117025Z",
     "iopub.status.busy": "2025-05-13T14:08:22.116652Z",
     "iopub.status.idle": "2025-05-13T14:08:22.123603Z",
     "shell.execute_reply": "2025-05-13T14:08:22.122762Z"
    },
    "papermill": {
     "duration": 0.01641,
     "end_time": "2025-05-13T14:08:22.125368",
     "exception": false,
     "start_time": "2025-05-13T14:08:22.108958",
     "status": "completed"
    },
    "tags": []
   },
   "outputs": [],
   "source": [
    "dim_date.drop([\"mmm yy\", \"week no\"], axis = 1, inplace =True)"
   ]
  },
  {
   "cell_type": "code",
   "execution_count": 14,
   "id": "2f36670a",
   "metadata": {
    "execution": {
     "iopub.execute_input": "2025-05-13T14:08:22.138405Z",
     "iopub.status.busy": "2025-05-13T14:08:22.138113Z",
     "iopub.status.idle": "2025-05-13T14:08:22.143148Z",
     "shell.execute_reply": "2025-05-13T14:08:22.142315Z"
    },
    "papermill": {
     "duration": 0.013137,
     "end_time": "2025-05-13T14:08:22.144543",
     "exception": false,
     "start_time": "2025-05-13T14:08:22.131406",
     "status": "completed"
    },
    "tags": []
   },
   "outputs": [],
   "source": [
    "dim_date.rename({\"day_type\":\"Weekend\"}, axis = 1, inplace = True)"
   ]
  },
  {
   "cell_type": "code",
   "execution_count": 15,
   "id": "dde388e9",
   "metadata": {
    "execution": {
     "iopub.execute_input": "2025-05-13T14:08:22.157427Z",
     "iopub.status.busy": "2025-05-13T14:08:22.157140Z",
     "iopub.status.idle": "2025-05-13T14:08:22.164200Z",
     "shell.execute_reply": "2025-05-13T14:08:22.163379Z"
    },
    "papermill": {
     "duration": 0.015245,
     "end_time": "2025-05-13T14:08:22.165626",
     "exception": false,
     "start_time": "2025-05-13T14:08:22.150381",
     "status": "completed"
    },
    "tags": []
   },
   "outputs": [],
   "source": [
    "dim_date[\"Weekend\"] = np.where(dim_date[\"Weekend\"].isin([\"weekend\"]),1,0)"
   ]
  },
  {
   "cell_type": "code",
   "execution_count": 16,
   "id": "8716c785",
   "metadata": {
    "execution": {
     "iopub.execute_input": "2025-05-13T14:08:22.178535Z",
     "iopub.status.busy": "2025-05-13T14:08:22.178218Z",
     "iopub.status.idle": "2025-05-13T14:08:22.186169Z",
     "shell.execute_reply": "2025-05-13T14:08:22.185150Z"
    },
    "papermill": {
     "duration": 0.016232,
     "end_time": "2025-05-13T14:08:22.187790",
     "exception": false,
     "start_time": "2025-05-13T14:08:22.171558",
     "status": "completed"
    },
    "tags": []
   },
   "outputs": [
    {
     "data": {
      "text/plain": [
       "Weekend\n",
       "0    65\n",
       "1    27\n",
       "Name: count, dtype: int64"
      ]
     },
     "execution_count": 16,
     "metadata": {},
     "output_type": "execute_result"
    }
   ],
   "source": [
    "dim_date[\"Weekend\"].value_counts()"
   ]
  },
  {
   "cell_type": "code",
   "execution_count": 17,
   "id": "b24d0774",
   "metadata": {
    "execution": {
     "iopub.execute_input": "2025-05-13T14:08:22.201385Z",
     "iopub.status.busy": "2025-05-13T14:08:22.201080Z",
     "iopub.status.idle": "2025-05-13T14:08:22.211774Z",
     "shell.execute_reply": "2025-05-13T14:08:22.210497Z"
    },
    "papermill": {
     "duration": 0.019413,
     "end_time": "2025-05-13T14:08:22.213518",
     "exception": false,
     "start_time": "2025-05-13T14:08:22.194105",
     "status": "completed"
    },
    "tags": []
   },
   "outputs": [
    {
     "name": "stdout",
     "output_type": "stream",
     "text": [
      "<class 'pandas.core.frame.DataFrame'>\n",
      "RangeIndex: 92 entries, 0 to 91\n",
      "Data columns (total 2 columns):\n",
      " #   Column   Non-Null Count  Dtype         \n",
      "---  ------   --------------  -----         \n",
      " 0   date     92 non-null     datetime64[ns]\n",
      " 1   Weekend  92 non-null     int64         \n",
      "dtypes: datetime64[ns](1), int64(1)\n",
      "memory usage: 1.6 KB\n"
     ]
    }
   ],
   "source": [
    "dim_date.info()"
   ]
  },
  {
   "cell_type": "markdown",
   "id": "32b3fe86",
   "metadata": {
    "papermill": {
     "duration": 0.005772,
     "end_time": "2025-05-13T14:08:22.225545",
     "exception": false,
     "start_time": "2025-05-13T14:08:22.219773",
     "status": "completed"
    },
    "tags": []
   },
   "source": [
    "**fact_aggregated_bookings needs check-in date into corrected date format, room_category into category type**"
   ]
  },
  {
   "cell_type": "code",
   "execution_count": 18,
   "id": "be445cfc",
   "metadata": {
    "execution": {
     "iopub.execute_input": "2025-05-13T14:08:22.238488Z",
     "iopub.status.busy": "2025-05-13T14:08:22.238208Z",
     "iopub.status.idle": "2025-05-13T14:08:22.249479Z",
     "shell.execute_reply": "2025-05-13T14:08:22.248279Z"
    },
    "papermill": {
     "duration": 0.019603,
     "end_time": "2025-05-13T14:08:22.250907",
     "exception": false,
     "start_time": "2025-05-13T14:08:22.231304",
     "status": "completed"
    },
    "tags": []
   },
   "outputs": [
    {
     "name": "stdout",
     "output_type": "stream",
     "text": [
      "<class 'pandas.core.frame.DataFrame'>\n",
      "RangeIndex: 9200 entries, 0 to 9199\n",
      "Data columns (total 5 columns):\n",
      " #   Column               Non-Null Count  Dtype \n",
      "---  ------               --------------  ----- \n",
      " 0   property_id          9200 non-null   int64 \n",
      " 1   check_in_date        9200 non-null   object\n",
      " 2   room_category        9200 non-null   object\n",
      " 3   successful_bookings  9200 non-null   int64 \n",
      " 4   capacity             9200 non-null   int64 \n",
      "dtypes: int64(3), object(2)\n",
      "memory usage: 359.5+ KB\n"
     ]
    }
   ],
   "source": [
    "fact_aggregated_bookings.info()"
   ]
  },
  {
   "cell_type": "code",
   "execution_count": 19,
   "id": "737ffe69",
   "metadata": {
    "execution": {
     "iopub.execute_input": "2025-05-13T14:08:22.264743Z",
     "iopub.status.busy": "2025-05-13T14:08:22.264462Z",
     "iopub.status.idle": "2025-05-13T14:08:22.279866Z",
     "shell.execute_reply": "2025-05-13T14:08:22.279038Z"
    },
    "papermill": {
     "duration": 0.024317,
     "end_time": "2025-05-13T14:08:22.281569",
     "exception": false,
     "start_time": "2025-05-13T14:08:22.257252",
     "status": "completed"
    },
    "tags": []
   },
   "outputs": [
    {
     "name": "stderr",
     "output_type": "stream",
     "text": [
      "/tmp/ipykernel_13/50125876.py:1: UserWarning: Could not infer format, so each element will be parsed individually, falling back to `dateutil`. To ensure parsing is consistent and as-expected, please specify a format.\n",
      "  fact_aggregated_bookings[\"check_in_date\"] = pd.to_datetime(fact_aggregated_bookings[\"check_in_date\"])\n"
     ]
    }
   ],
   "source": [
    "fact_aggregated_bookings[\"check_in_date\"] = pd.to_datetime(fact_aggregated_bookings[\"check_in_date\"])\n",
    "fact_aggregated_bookings[\"room_category\"] = fact_aggregated_bookings[\"check_in_date\"].astype(\"category\")"
   ]
  },
  {
   "cell_type": "code",
   "execution_count": 20,
   "id": "36da8247",
   "metadata": {
    "execution": {
     "iopub.execute_input": "2025-05-13T14:08:22.295760Z",
     "iopub.status.busy": "2025-05-13T14:08:22.295459Z",
     "iopub.status.idle": "2025-05-13T14:08:22.312076Z",
     "shell.execute_reply": "2025-05-13T14:08:22.311104Z"
    },
    "papermill": {
     "duration": 0.025822,
     "end_time": "2025-05-13T14:08:22.313580",
     "exception": false,
     "start_time": "2025-05-13T14:08:22.287758",
     "status": "completed"
    },
    "tags": []
   },
   "outputs": [
    {
     "name": "stdout",
     "output_type": "stream",
     "text": [
      "<class 'pandas.core.frame.DataFrame'>\n",
      "RangeIndex: 9200 entries, 0 to 9199\n",
      "Data columns (total 5 columns):\n",
      " #   Column               Non-Null Count  Dtype         \n",
      "---  ------               --------------  -----         \n",
      " 0   property_id          9200 non-null   int64         \n",
      " 1   check_in_date        9200 non-null   datetime64[ns]\n",
      " 2   room_category        9200 non-null   category      \n",
      " 3   successful_bookings  9200 non-null   int64         \n",
      " 4   capacity             9200 non-null   int64         \n",
      "dtypes: category(1), datetime64[ns](1), int64(3)\n",
      "memory usage: 299.4 KB\n"
     ]
    }
   ],
   "source": [
    "fact_aggregated_bookings.info()"
   ]
  },
  {
   "cell_type": "markdown",
   "id": "512aed6e",
   "metadata": {
    "papermill": {
     "duration": 0.005789,
     "end_time": "2025-05-13T14:08:22.326170",
     "exception": false,
     "start_time": "2025-05-13T14:08:22.320381",
     "status": "completed"
    },
    "tags": []
   },
   "source": [
    "**fact_bookings has missing values in ratings_given column, booking & checkin & checkout dates must be converted into date type, room_category & booking_platform & booking_status into category**"
   ]
  },
  {
   "cell_type": "code",
   "execution_count": 21,
   "id": "fc79f67a",
   "metadata": {
    "execution": {
     "iopub.execute_input": "2025-05-13T14:08:22.339742Z",
     "iopub.status.busy": "2025-05-13T14:08:22.339074Z",
     "iopub.status.idle": "2025-05-13T14:08:22.398456Z",
     "shell.execute_reply": "2025-05-13T14:08:22.397186Z"
    },
    "papermill": {
     "duration": 0.068149,
     "end_time": "2025-05-13T14:08:22.400333",
     "exception": false,
     "start_time": "2025-05-13T14:08:22.332184",
     "status": "completed"
    },
    "tags": []
   },
   "outputs": [
    {
     "name": "stdout",
     "output_type": "stream",
     "text": [
      "<class 'pandas.core.frame.DataFrame'>\n",
      "RangeIndex: 134590 entries, 0 to 134589\n",
      "Data columns (total 12 columns):\n",
      " #   Column             Non-Null Count   Dtype  \n",
      "---  ------             --------------   -----  \n",
      " 0   booking_id         134590 non-null  object \n",
      " 1   property_id        134590 non-null  int64  \n",
      " 2   booking_date       134590 non-null  object \n",
      " 3   check_in_date      134590 non-null  object \n",
      " 4   checkout_date      134590 non-null  object \n",
      " 5   no_guests          134590 non-null  int64  \n",
      " 6   room_category      134590 non-null  object \n",
      " 7   booking_platform   134590 non-null  object \n",
      " 8   ratings_given      56683 non-null   float64\n",
      " 9   booking_status     134590 non-null  object \n",
      " 10  revenue_generated  134590 non-null  int64  \n",
      " 11  revenue_realized   134590 non-null  int64  \n",
      "dtypes: float64(1), int64(4), object(7)\n",
      "memory usage: 12.3+ MB\n"
     ]
    }
   ],
   "source": [
    "fact_bookings.info()"
   ]
  },
  {
   "cell_type": "code",
   "execution_count": 22,
   "id": "c1178000",
   "metadata": {
    "execution": {
     "iopub.execute_input": "2025-05-13T14:08:22.414347Z",
     "iopub.status.busy": "2025-05-13T14:08:22.414049Z",
     "iopub.status.idle": "2025-05-13T14:08:22.428897Z",
     "shell.execute_reply": "2025-05-13T14:08:22.427723Z"
    },
    "papermill": {
     "duration": 0.023747,
     "end_time": "2025-05-13T14:08:22.430479",
     "exception": false,
     "start_time": "2025-05-13T14:08:22.406732",
     "status": "completed"
    },
    "tags": []
   },
   "outputs": [
    {
     "name": "stderr",
     "output_type": "stream",
     "text": [
      "/usr/local/lib/python3.11/dist-packages/pandas/io/formats/format.py:1458: RuntimeWarning: invalid value encountered in greater\n",
      "  has_large_values = (abs_vals > 1e6).any()\n",
      "/usr/local/lib/python3.11/dist-packages/pandas/io/formats/format.py:1459: RuntimeWarning: invalid value encountered in less\n",
      "  has_small_values = ((abs_vals < 10 ** (-self.digits)) & (abs_vals > 0)).any()\n",
      "/usr/local/lib/python3.11/dist-packages/pandas/io/formats/format.py:1459: RuntimeWarning: invalid value encountered in greater\n",
      "  has_small_values = ((abs_vals < 10 ** (-self.digits)) & (abs_vals > 0)).any()\n"
     ]
    },
    {
     "data": {
      "text/html": [
       "<div>\n",
       "<style scoped>\n",
       "    .dataframe tbody tr th:only-of-type {\n",
       "        vertical-align: middle;\n",
       "    }\n",
       "\n",
       "    .dataframe tbody tr th {\n",
       "        vertical-align: top;\n",
       "    }\n",
       "\n",
       "    .dataframe thead th {\n",
       "        text-align: right;\n",
       "    }\n",
       "</style>\n",
       "<table border=\"1\" class=\"dataframe\">\n",
       "  <thead>\n",
       "    <tr style=\"text-align: right;\">\n",
       "      <th></th>\n",
       "      <th>booking_id</th>\n",
       "      <th>property_id</th>\n",
       "      <th>booking_date</th>\n",
       "      <th>check_in_date</th>\n",
       "      <th>checkout_date</th>\n",
       "      <th>no_guests</th>\n",
       "      <th>room_category</th>\n",
       "      <th>booking_platform</th>\n",
       "      <th>ratings_given</th>\n",
       "      <th>booking_status</th>\n",
       "      <th>revenue_generated</th>\n",
       "      <th>revenue_realized</th>\n",
       "    </tr>\n",
       "  </thead>\n",
       "  <tbody>\n",
       "    <tr>\n",
       "      <th>0</th>\n",
       "      <td>May012216558RT11</td>\n",
       "      <td>16558</td>\n",
       "      <td>2022-04-27</td>\n",
       "      <td>2022-05-01</td>\n",
       "      <td>2022-05-02</td>\n",
       "      <td>3</td>\n",
       "      <td>RT1</td>\n",
       "      <td>direct online</td>\n",
       "      <td>1.0</td>\n",
       "      <td>Checked Out</td>\n",
       "      <td>10010</td>\n",
       "      <td>10010</td>\n",
       "    </tr>\n",
       "    <tr>\n",
       "      <th>1</th>\n",
       "      <td>May012216558RT12</td>\n",
       "      <td>16558</td>\n",
       "      <td>2022-04-30</td>\n",
       "      <td>2022-05-01</td>\n",
       "      <td>2022-05-02</td>\n",
       "      <td>2</td>\n",
       "      <td>RT1</td>\n",
       "      <td>others</td>\n",
       "      <td>NaN</td>\n",
       "      <td>Cancelled</td>\n",
       "      <td>9100</td>\n",
       "      <td>3640</td>\n",
       "    </tr>\n",
       "    <tr>\n",
       "      <th>2</th>\n",
       "      <td>May012216558RT13</td>\n",
       "      <td>16558</td>\n",
       "      <td>2022-04-28</td>\n",
       "      <td>2022-05-01</td>\n",
       "      <td>2022-05-04</td>\n",
       "      <td>2</td>\n",
       "      <td>RT1</td>\n",
       "      <td>logtrip</td>\n",
       "      <td>5.0</td>\n",
       "      <td>Checked Out</td>\n",
       "      <td>9100</td>\n",
       "      <td>9100</td>\n",
       "    </tr>\n",
       "    <tr>\n",
       "      <th>3</th>\n",
       "      <td>May012216558RT14</td>\n",
       "      <td>16558</td>\n",
       "      <td>2022-04-28</td>\n",
       "      <td>2022-05-01</td>\n",
       "      <td>2022-05-02</td>\n",
       "      <td>2</td>\n",
       "      <td>RT1</td>\n",
       "      <td>others</td>\n",
       "      <td>NaN</td>\n",
       "      <td>Cancelled</td>\n",
       "      <td>9100</td>\n",
       "      <td>3640</td>\n",
       "    </tr>\n",
       "    <tr>\n",
       "      <th>4</th>\n",
       "      <td>May012216558RT15</td>\n",
       "      <td>16558</td>\n",
       "      <td>2022-04-27</td>\n",
       "      <td>2022-05-01</td>\n",
       "      <td>2022-05-02</td>\n",
       "      <td>4</td>\n",
       "      <td>RT1</td>\n",
       "      <td>direct online</td>\n",
       "      <td>5.0</td>\n",
       "      <td>Checked Out</td>\n",
       "      <td>10920</td>\n",
       "      <td>10920</td>\n",
       "    </tr>\n",
       "  </tbody>\n",
       "</table>\n",
       "</div>"
      ],
      "text/plain": [
       "         booking_id  property_id booking_date check_in_date checkout_date  \\\n",
       "0  May012216558RT11        16558   2022-04-27    2022-05-01    2022-05-02   \n",
       "1  May012216558RT12        16558   2022-04-30    2022-05-01    2022-05-02   \n",
       "2  May012216558RT13        16558   2022-04-28    2022-05-01    2022-05-04   \n",
       "3  May012216558RT14        16558   2022-04-28    2022-05-01    2022-05-02   \n",
       "4  May012216558RT15        16558   2022-04-27    2022-05-01    2022-05-02   \n",
       "\n",
       "   no_guests room_category booking_platform  ratings_given booking_status  \\\n",
       "0          3           RT1    direct online            1.0    Checked Out   \n",
       "1          2           RT1           others            NaN      Cancelled   \n",
       "2          2           RT1          logtrip            5.0    Checked Out   \n",
       "3          2           RT1           others            NaN      Cancelled   \n",
       "4          4           RT1    direct online            5.0    Checked Out   \n",
       "\n",
       "   revenue_generated  revenue_realized  \n",
       "0              10010             10010  \n",
       "1               9100              3640  \n",
       "2               9100              9100  \n",
       "3               9100              3640  \n",
       "4              10920             10920  "
      ]
     },
     "execution_count": 22,
     "metadata": {},
     "output_type": "execute_result"
    }
   ],
   "source": [
    "fact_bookings.head()"
   ]
  },
  {
   "cell_type": "code",
   "execution_count": 23,
   "id": "ad73772a",
   "metadata": {
    "execution": {
     "iopub.execute_input": "2025-05-13T14:08:22.445039Z",
     "iopub.status.busy": "2025-05-13T14:08:22.444692Z",
     "iopub.status.idle": "2025-05-13T14:08:22.498866Z",
     "shell.execute_reply": "2025-05-13T14:08:22.497905Z"
    },
    "papermill": {
     "duration": 0.063344,
     "end_time": "2025-05-13T14:08:22.500605",
     "exception": false,
     "start_time": "2025-05-13T14:08:22.437261",
     "status": "completed"
    },
    "tags": []
   },
   "outputs": [],
   "source": [
    "fact_bookings[\"booking_date\"] = pd.to_datetime(fact_bookings[\"booking_date\"])\n",
    "fact_bookings[\"check_in_date\"] = pd.to_datetime(fact_bookings[\"check_in_date\"])\n",
    "fact_bookings[\"checkout_date\"] = pd.to_datetime(fact_bookings[\"checkout_date\"])"
   ]
  },
  {
   "cell_type": "code",
   "execution_count": 24,
   "id": "d0862d78",
   "metadata": {
    "execution": {
     "iopub.execute_input": "2025-05-13T14:08:22.515485Z",
     "iopub.status.busy": "2025-05-13T14:08:22.515188Z",
     "iopub.status.idle": "2025-05-13T14:08:22.550424Z",
     "shell.execute_reply": "2025-05-13T14:08:22.549193Z"
    },
    "papermill": {
     "duration": 0.045038,
     "end_time": "2025-05-13T14:08:22.552496",
     "exception": false,
     "start_time": "2025-05-13T14:08:22.507458",
     "status": "completed"
    },
    "tags": []
   },
   "outputs": [],
   "source": [
    "fact_bookings[[\"room_category\",\"booking_platform\",\"booking_status\"]] = fact_bookings[[\"room_category\",\"booking_platform\",\"booking_status\"]].astype(\"category\")"
   ]
  },
  {
   "cell_type": "code",
   "execution_count": 25,
   "id": "fc0a5321",
   "metadata": {
    "execution": {
     "iopub.execute_input": "2025-05-13T14:08:22.567467Z",
     "iopub.status.busy": "2025-05-13T14:08:22.567164Z",
     "iopub.status.idle": "2025-05-13T14:08:22.589186Z",
     "shell.execute_reply": "2025-05-13T14:08:22.587847Z"
    },
    "papermill": {
     "duration": 0.031162,
     "end_time": "2025-05-13T14:08:22.590818",
     "exception": false,
     "start_time": "2025-05-13T14:08:22.559656",
     "status": "completed"
    },
    "tags": []
   },
   "outputs": [
    {
     "name": "stdout",
     "output_type": "stream",
     "text": [
      "<class 'pandas.core.frame.DataFrame'>\n",
      "RangeIndex: 134590 entries, 0 to 134589\n",
      "Data columns (total 12 columns):\n",
      " #   Column             Non-Null Count   Dtype         \n",
      "---  ------             --------------   -----         \n",
      " 0   booking_id         134590 non-null  object        \n",
      " 1   property_id        134590 non-null  int64         \n",
      " 2   booking_date       134590 non-null  datetime64[ns]\n",
      " 3   check_in_date      134590 non-null  datetime64[ns]\n",
      " 4   checkout_date      134590 non-null  datetime64[ns]\n",
      " 5   no_guests          134590 non-null  int64         \n",
      " 6   room_category      134590 non-null  category      \n",
      " 7   booking_platform   134590 non-null  category      \n",
      " 8   ratings_given      56683 non-null   float64       \n",
      " 9   booking_status     134590 non-null  category      \n",
      " 10  revenue_generated  134590 non-null  int64         \n",
      " 11  revenue_realized   134590 non-null  int64         \n",
      "dtypes: category(3), datetime64[ns](3), float64(1), int64(4), object(1)\n",
      "memory usage: 9.6+ MB\n"
     ]
    }
   ],
   "source": [
    "fact_bookings.info()"
   ]
  }
 ],
 "metadata": {
  "kaggle": {
   "accelerator": "none",
   "dataSources": [
    {
     "datasetId": 7406101,
     "sourceId": 11794348,
     "sourceType": "datasetVersion"
    }
   ],
   "dockerImageVersionId": 31040,
   "isGpuEnabled": false,
   "isInternetEnabled": true,
   "language": "python",
   "sourceType": "notebook"
  },
  "kernelspec": {
   "display_name": "Python 3",
   "language": "python",
   "name": "python3"
  },
  "language_info": {
   "codemirror_mode": {
    "name": "ipython",
    "version": 3
   },
   "file_extension": ".py",
   "mimetype": "text/x-python",
   "name": "python",
   "nbconvert_exporter": "python",
   "pygments_lexer": "ipython3",
   "version": "3.11.11"
  },
  "papermill": {
   "default_parameters": {},
   "duration": 9.260702,
   "end_time": "2025-05-13T14:08:23.117123",
   "environment_variables": {},
   "exception": null,
   "input_path": "__notebook__.ipynb",
   "output_path": "__notebook__.ipynb",
   "parameters": {},
   "start_time": "2025-05-13T14:08:13.856421",
   "version": "2.6.0"
  }
 },
 "nbformat": 4,
 "nbformat_minor": 5
}
