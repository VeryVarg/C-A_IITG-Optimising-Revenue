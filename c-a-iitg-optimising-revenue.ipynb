{
 "cells": [
  {
   "cell_type": "code",
   "execution_count": 1,
   "id": "89d6b701",
   "metadata": {
    "_cell_guid": "b1076dfc-b9ad-4769-8c92-a6c4dae69d19",
    "_uuid": "8f2839f25d086af736a60e9eeb907d3b93b6e0e5",
    "execution": {
     "iopub.execute_input": "2025-06-01T13:39:24.652604Z",
     "iopub.status.busy": "2025-06-01T13:39:24.652204Z",
     "iopub.status.idle": "2025-06-01T13:39:26.611486Z",
     "shell.execute_reply": "2025-06-01T13:39:26.610463Z"
    },
    "papermill": {
     "duration": 1.969802,
     "end_time": "2025-06-01T13:39:26.612950",
     "exception": false,
     "start_time": "2025-06-01T13:39:24.643148",
     "status": "completed"
    },
    "tags": []
   },
   "outputs": [
    {
     "name": "stdout",
     "output_type": "stream",
     "text": [
      "/kaggle/input/optimising-revenue-dataset/PS2/fact_aggregated_bookings.csv\n",
      "/kaggle/input/optimising-revenue-dataset/PS2/dim_hotels.csv\n",
      "/kaggle/input/optimising-revenue-dataset/PS2/dim_rooms.csv\n",
      "/kaggle/input/optimising-revenue-dataset/PS2/dim_date.csv\n",
      "/kaggle/input/optimising-revenue-dataset/PS2/fact_bookings.csv\n",
      "/kaggle/input/fact-bookings-imputed/Bookings Imputed.csv\n"
     ]
    }
   ],
   "source": [
    "# This Python 3 environment comes with many helpful analytics libraries installed\n",
    "# It is defined by the kaggle/python Docker image: https://github.com/kaggle/docker-python\n",
    "# For example, here's several helpful packages to load\n",
    "\n",
    "import numpy as np # linear algebra\n",
    "import pandas as pd # data processing, CSV file I/O (e.g. pd.read_csv)\n",
    "\n",
    "# Input data files are available in the read-only \"../input/\" directory\n",
    "# For example, running this (by clicking run or pressing Shift+Enter) will list all files under the input directory\n",
    "\n",
    "import os\n",
    "for dirname, _, filenames in os.walk('/kaggle/input'):\n",
    "    for filename in filenames:\n",
    "        print(os.path.join(dirname, filename))\n",
    "\n",
    "# You can write up to 20GB to the current directory (/kaggle/working/) that gets preserved as output when you create a version using \"Save & Run All\" \n",
    "# You can also write temporary files to /kaggle/temp/, but they won't be saved outside of the current session"
   ]
  },
  {
   "cell_type": "markdown",
   "id": "5ca1277a",
   "metadata": {
    "papermill": {
     "duration": 0.00619,
     "end_time": "2025-06-01T13:39:26.626230",
     "exception": false,
     "start_time": "2025-06-01T13:39:26.620040",
     "status": "completed"
    },
    "tags": []
   },
   "source": [
    "# Exploring DataFrames"
   ]
  },
  {
   "cell_type": "code",
   "execution_count": 2,
   "id": "b86f6bad",
   "metadata": {
    "execution": {
     "iopub.execute_input": "2025-06-01T13:39:26.640518Z",
     "iopub.status.busy": "2025-06-01T13:39:26.640079Z",
     "iopub.status.idle": "2025-06-01T13:39:27.168494Z",
     "shell.execute_reply": "2025-06-01T13:39:27.167562Z"
    },
    "papermill": {
     "duration": 0.538254,
     "end_time": "2025-06-01T13:39:27.170858",
     "exception": false,
     "start_time": "2025-06-01T13:39:26.632604",
     "status": "completed"
    },
    "tags": []
   },
   "outputs": [],
   "source": [
    "dim_date = pd.read_csv(\"/kaggle/input/optimising-revenue-dataset/PS2/dim_date.csv\")\n",
    "dim_hotels = pd.read_csv(\"/kaggle/input/optimising-revenue-dataset/PS2/dim_hotels.csv\")\n",
    "dim_rooms = pd.read_csv(\"/kaggle/input/optimising-revenue-dataset/PS2/dim_rooms.csv\")\n",
    "fact_aggregated_bookings = pd.read_csv(\"/kaggle/input/optimising-revenue-dataset/PS2/fact_aggregated_bookings.csv\")\n",
    "fact_bookings = pd.read_csv(\"/kaggle/input/optimising-revenue-dataset/PS2/fact_bookings.csv\")"
   ]
  },
  {
   "cell_type": "code",
   "execution_count": 3,
   "id": "efb0fb9a",
   "metadata": {
    "execution": {
     "iopub.execute_input": "2025-06-01T13:39:27.196805Z",
     "iopub.status.busy": "2025-06-01T13:39:27.196334Z",
     "iopub.status.idle": "2025-06-01T13:39:27.201835Z",
     "shell.execute_reply": "2025-06-01T13:39:27.200662Z"
    },
    "papermill": {
     "duration": 0.020118,
     "end_time": "2025-06-01T13:39:27.203359",
     "exception": false,
     "start_time": "2025-06-01T13:39:27.183241",
     "status": "completed"
    },
    "tags": []
   },
   "outputs": [],
   "source": [
    "dataframes = [dim_date,dim_hotels,dim_rooms,fact_aggregated_bookings,fact_bookings]"
   ]
  },
  {
   "cell_type": "code",
   "execution_count": 4,
   "id": "852df0d5",
   "metadata": {
    "execution": {
     "iopub.execute_input": "2025-06-01T13:39:27.223786Z",
     "iopub.status.busy": "2025-06-01T13:39:27.223033Z",
     "iopub.status.idle": "2025-06-01T13:39:27.332125Z",
     "shell.execute_reply": "2025-06-01T13:39:27.330544Z"
    },
    "papermill": {
     "duration": 0.119865,
     "end_time": "2025-06-01T13:39:27.333876",
     "exception": false,
     "start_time": "2025-06-01T13:39:27.214011",
     "status": "completed"
    },
    "tags": []
   },
   "outputs": [
    {
     "name": "stdout",
     "output_type": "stream",
     "text": [
      "<class 'pandas.core.frame.DataFrame'>\n",
      "RangeIndex: 92 entries, 0 to 91\n",
      "Data columns (total 4 columns):\n",
      " #   Column    Non-Null Count  Dtype \n",
      "---  ------    --------------  ----- \n",
      " 0   date      92 non-null     object\n",
      " 1   mmm yy    92 non-null     object\n",
      " 2   week no   92 non-null     object\n",
      " 3   day_type  92 non-null     object\n",
      "dtypes: object(4)\n",
      "memory usage: 3.0+ KB\n",
      "None\n",
      "<class 'pandas.core.frame.DataFrame'>\n",
      "RangeIndex: 25 entries, 0 to 24\n",
      "Data columns (total 4 columns):\n",
      " #   Column         Non-Null Count  Dtype \n",
      "---  ------         --------------  ----- \n",
      " 0   property_id    25 non-null     int64 \n",
      " 1   property_name  25 non-null     object\n",
      " 2   category       25 non-null     object\n",
      " 3   city           25 non-null     object\n",
      "dtypes: int64(1), object(3)\n",
      "memory usage: 932.0+ bytes\n",
      "None\n",
      "<class 'pandas.core.frame.DataFrame'>\n",
      "RangeIndex: 4 entries, 0 to 3\n",
      "Data columns (total 2 columns):\n",
      " #   Column      Non-Null Count  Dtype \n",
      "---  ------      --------------  ----- \n",
      " 0   room_id     4 non-null      object\n",
      " 1   room_class  4 non-null      object\n",
      "dtypes: object(2)\n",
      "memory usage: 196.0+ bytes\n",
      "None\n",
      "<class 'pandas.core.frame.DataFrame'>\n",
      "RangeIndex: 9200 entries, 0 to 9199\n",
      "Data columns (total 5 columns):\n",
      " #   Column               Non-Null Count  Dtype \n",
      "---  ------               --------------  ----- \n",
      " 0   property_id          9200 non-null   int64 \n",
      " 1   check_in_date        9200 non-null   object\n",
      " 2   room_category        9200 non-null   object\n",
      " 3   successful_bookings  9200 non-null   int64 \n",
      " 4   capacity             9200 non-null   int64 \n",
      "dtypes: int64(3), object(2)\n",
      "memory usage: 359.5+ KB\n",
      "None\n",
      "<class 'pandas.core.frame.DataFrame'>\n",
      "RangeIndex: 134590 entries, 0 to 134589\n",
      "Data columns (total 12 columns):\n",
      " #   Column             Non-Null Count   Dtype  \n",
      "---  ------             --------------   -----  \n",
      " 0   booking_id         134590 non-null  object \n",
      " 1   property_id        134590 non-null  int64  \n",
      " 2   booking_date       134590 non-null  object \n",
      " 3   check_in_date      134590 non-null  object \n",
      " 4   checkout_date      134590 non-null  object \n",
      " 5   no_guests          134590 non-null  int64  \n",
      " 6   room_category      134590 non-null  object \n",
      " 7   booking_platform   134590 non-null  object \n",
      " 8   ratings_given      56683 non-null   float64\n",
      " 9   booking_status     134590 non-null  object \n",
      " 10  revenue_generated  134590 non-null  int64  \n",
      " 11  revenue_realized   134590 non-null  int64  \n",
      "dtypes: float64(1), int64(4), object(7)\n",
      "memory usage: 12.3+ MB\n",
      "None\n"
     ]
    }
   ],
   "source": [
    "for i in dataframes:\n",
    "    print(i.info())"
   ]
  },
  {
   "cell_type": "code",
   "execution_count": 5,
   "id": "98ebc08c",
   "metadata": {
    "execution": {
     "iopub.execute_input": "2025-06-01T13:39:27.351346Z",
     "iopub.status.busy": "2025-06-01T13:39:27.351070Z",
     "iopub.status.idle": "2025-06-01T13:39:27.370856Z",
     "shell.execute_reply": "2025-06-01T13:39:27.369613Z"
    },
    "papermill": {
     "duration": 0.029115,
     "end_time": "2025-06-01T13:39:27.372357",
     "exception": false,
     "start_time": "2025-06-01T13:39:27.343242",
     "status": "completed"
    },
    "tags": []
   },
   "outputs": [
    {
     "name": "stdout",
     "output_type": "stream",
     "text": [
      "        date  mmm yy week no  day_type\n",
      "0  01-May-22  May 22    W 19   weekend\n",
      "1  02-May-22  May 22    W 19  weekeday\n",
      "2  03-May-22  May 22    W 19  weekeday\n",
      "3  04-May-22  May 22    W 19  weekeday\n",
      "4  05-May-22  May 22    W 19  weekeday\n",
      "5  06-May-22  May 22    W 19  weekeday\n",
      "6  07-May-22  May 22    W 19   weekend\n",
      "7  08-May-22  May 22    W 20   weekend\n",
      "8  09-May-22  May 22    W 20  weekeday\n",
      "9  10-May-22  May 22    W 20  weekeday\n",
      "\n",
      "\n",
      "   property_id  property_name  category    city\n",
      "0        16558   Atliq Grands    Luxury   Delhi\n",
      "1        16559  Atliq Exotica    Luxury  Mumbai\n",
      "2        16560     Atliq City  Business   Delhi\n",
      "3        16561      Atliq Blu    Luxury   Delhi\n",
      "4        16562      Atliq Bay    Luxury   Delhi\n",
      "5        16563   Atliq Palace  Business   Delhi\n",
      "6        17558   Atliq Grands    Luxury  Mumbai\n",
      "7        17559  Atliq Exotica    Luxury  Mumbai\n",
      "8        17560     Atliq City  Business  Mumbai\n",
      "9        17561      Atliq Blu    Luxury  Mumbai\n",
      "\n",
      "\n",
      "  room_id    room_class\n",
      "0     RT1      Standard\n",
      "1     RT2         Elite\n",
      "2     RT3       Premium\n",
      "3     RT4  Presidential\n",
      "\n",
      "\n",
      "   property_id check_in_date room_category  successful_bookings  capacity\n",
      "0        16559     01-May-22           RT1                   25        30\n",
      "1        19562     01-May-22           RT1                   28        30\n",
      "2        19563     01-May-22           RT1                   23        30\n",
      "3        17558     01-May-22           RT1                   13        19\n",
      "4        16558     01-May-22           RT1                   18        19\n",
      "5        17560     01-May-22           RT1                   28        40\n",
      "6        19558     01-May-22           RT1                   25        40\n",
      "7        19560     01-May-22           RT1                   23        26\n",
      "8        17561     01-May-22           RT1                   22        26\n",
      "9        16560     01-May-22           RT1                   24        34\n",
      "\n",
      "\n",
      "          booking_id  property_id booking_date check_in_date checkout_date  \\\n",
      "0   May012216558RT11        16558   2022-04-27    2022-05-01    2022-05-02   \n",
      "1   May012216558RT12        16558   2022-04-30    2022-05-01    2022-05-02   \n",
      "2   May012216558RT13        16558   2022-04-28    2022-05-01    2022-05-04   \n",
      "3   May012216558RT14        16558   2022-04-28    2022-05-01    2022-05-02   \n",
      "4   May012216558RT15        16558   2022-04-27    2022-05-01    2022-05-02   \n",
      "5   May012216558RT16        16558   2022-05-01    2022-05-01    2022-05-03   \n",
      "6   May012216558RT17        16558   2022-04-28    2022-05-01    2022-05-06   \n",
      "7   May012216558RT18        16558   2022-04-26    2022-05-01    2022-05-03   \n",
      "8   May012216558RT19        16558   2022-04-30    2022-05-01    2022-05-02   \n",
      "9  May012216558RT110        16558   2022-04-28    2022-05-01    2022-05-02   \n",
      "\n",
      "   no_guests room_category booking_platform  ratings_given booking_status  \\\n",
      "0          3           RT1    direct online            1.0    Checked Out   \n",
      "1          2           RT1           others            NaN      Cancelled   \n",
      "2          2           RT1          logtrip            5.0    Checked Out   \n",
      "3          2           RT1           others            NaN      Cancelled   \n",
      "4          4           RT1    direct online            5.0    Checked Out   \n",
      "5          2           RT1           others            4.0    Checked Out   \n",
      "6          2           RT1           others            NaN      Cancelled   \n",
      "7          2           RT1          logtrip            NaN        No Show   \n",
      "8          2           RT1         tripster            NaN    Checked Out   \n",
      "9          1           RT1           others            4.0    Checked Out   \n",
      "\n",
      "   revenue_generated  revenue_realized  \n",
      "0              10010             10010  \n",
      "1               9100              3640  \n",
      "2               9100              9100  \n",
      "3               9100              3640  \n",
      "4              10920             10920  \n",
      "5               9100              9100  \n",
      "6               9100              3640  \n",
      "7               9100              9100  \n",
      "8               9100              9100  \n",
      "9               9100              9100  \n",
      "\n",
      "\n"
     ]
    },
    {
     "name": "stderr",
     "output_type": "stream",
     "text": [
      "/usr/local/lib/python3.11/dist-packages/pandas/io/formats/format.py:1458: RuntimeWarning: invalid value encountered in greater\n",
      "  has_large_values = (abs_vals > 1e6).any()\n",
      "/usr/local/lib/python3.11/dist-packages/pandas/io/formats/format.py:1459: RuntimeWarning: invalid value encountered in less\n",
      "  has_small_values = ((abs_vals < 10 ** (-self.digits)) & (abs_vals > 0)).any()\n",
      "/usr/local/lib/python3.11/dist-packages/pandas/io/formats/format.py:1459: RuntimeWarning: invalid value encountered in greater\n",
      "  has_small_values = ((abs_vals < 10 ** (-self.digits)) & (abs_vals > 0)).any()\n"
     ]
    }
   ],
   "source": [
    "for i in dataframes:\n",
    "    print(i.head(10))\n",
    "    print(\"\\n\")"
   ]
  },
  {
   "cell_type": "markdown",
   "id": "c8930374",
   "metadata": {
    "papermill": {
     "duration": 0.006765,
     "end_time": "2025-06-01T13:39:27.386164",
     "exception": false,
     "start_time": "2025-06-01T13:39:27.379399",
     "status": "completed"
    },
    "tags": []
   },
   "source": [
    "# Fixing Problems with Data"
   ]
  },
  {
   "cell_type": "markdown",
   "id": "d50de474",
   "metadata": {
    "papermill": {
     "duration": 0.006596,
     "end_time": "2025-06-01T13:39:27.399449",
     "exception": false,
     "start_time": "2025-06-01T13:39:27.392853",
     "status": "completed"
    },
    "tags": []
   },
   "source": [
    "**dim_rooms needs conversion of room_id and room_class into category**"
   ]
  },
  {
   "cell_type": "code",
   "execution_count": 6,
   "id": "65bb4c0d",
   "metadata": {
    "execution": {
     "iopub.execute_input": "2025-06-01T13:39:27.414200Z",
     "iopub.status.busy": "2025-06-01T13:39:27.413842Z",
     "iopub.status.idle": "2025-06-01T13:39:27.420286Z",
     "shell.execute_reply": "2025-06-01T13:39:27.419602Z"
    },
    "papermill": {
     "duration": 0.015385,
     "end_time": "2025-06-01T13:39:27.421542",
     "exception": false,
     "start_time": "2025-06-01T13:39:27.406157",
     "status": "completed"
    },
    "tags": []
   },
   "outputs": [],
   "source": [
    "dim_rooms[\"room_id\"] = dim_rooms[\"room_id\"].astype(\"category\")\n",
    "dim_rooms[\"room_class\"] = dim_rooms[\"room_class\"].astype(\"category\")"
   ]
  },
  {
   "cell_type": "markdown",
   "id": "8ed16a65",
   "metadata": {
    "papermill": {
     "duration": 0.006605,
     "end_time": "2025-06-01T13:39:27.435195",
     "exception": false,
     "start_time": "2025-06-01T13:39:27.428590",
     "status": "completed"
    },
    "tags": []
   },
   "source": [
    "**dim_hotels needs to convert city and category into category format**"
   ]
  },
  {
   "cell_type": "code",
   "execution_count": 7,
   "id": "e2a499bd",
   "metadata": {
    "execution": {
     "iopub.execute_input": "2025-06-01T13:39:27.449920Z",
     "iopub.status.busy": "2025-06-01T13:39:27.449587Z",
     "iopub.status.idle": "2025-06-01T13:39:27.458751Z",
     "shell.execute_reply": "2025-06-01T13:39:27.457945Z"
    },
    "papermill": {
     "duration": 0.01811,
     "end_time": "2025-06-01T13:39:27.459998",
     "exception": false,
     "start_time": "2025-06-01T13:39:27.441888",
     "status": "completed"
    },
    "tags": []
   },
   "outputs": [
    {
     "name": "stdout",
     "output_type": "stream",
     "text": [
      "<class 'pandas.core.frame.DataFrame'>\n",
      "RangeIndex: 25 entries, 0 to 24\n",
      "Data columns (total 4 columns):\n",
      " #   Column         Non-Null Count  Dtype \n",
      "---  ------         --------------  ----- \n",
      " 0   property_id    25 non-null     int64 \n",
      " 1   property_name  25 non-null     object\n",
      " 2   category       25 non-null     object\n",
      " 3   city           25 non-null     object\n",
      "dtypes: int64(1), object(3)\n",
      "memory usage: 932.0+ bytes\n"
     ]
    }
   ],
   "source": [
    "dim_hotels.info()"
   ]
  },
  {
   "cell_type": "code",
   "execution_count": 8,
   "id": "3fb71534",
   "metadata": {
    "execution": {
     "iopub.execute_input": "2025-06-01T13:39:27.474992Z",
     "iopub.status.busy": "2025-06-01T13:39:27.474666Z",
     "iopub.status.idle": "2025-06-01T13:39:27.480972Z",
     "shell.execute_reply": "2025-06-01T13:39:27.480328Z"
    },
    "papermill": {
     "duration": 0.015358,
     "end_time": "2025-06-01T13:39:27.482245",
     "exception": false,
     "start_time": "2025-06-01T13:39:27.466887",
     "status": "completed"
    },
    "tags": []
   },
   "outputs": [],
   "source": [
    "dim_hotels[\"category\"]=dim_hotels[\"category\"].astype(\"category\")\n",
    "dim_hotels[\"city\"]=dim_hotels[\"city\"].astype(\"category\")"
   ]
  },
  {
   "cell_type": "code",
   "execution_count": 9,
   "id": "bdc831cd",
   "metadata": {
    "execution": {
     "iopub.execute_input": "2025-06-01T13:39:27.497841Z",
     "iopub.status.busy": "2025-06-01T13:39:27.497526Z",
     "iopub.status.idle": "2025-06-01T13:39:27.510931Z",
     "shell.execute_reply": "2025-06-01T13:39:27.509964Z"
    },
    "papermill": {
     "duration": 0.022919,
     "end_time": "2025-06-01T13:39:27.512458",
     "exception": false,
     "start_time": "2025-06-01T13:39:27.489539",
     "status": "completed"
    },
    "tags": []
   },
   "outputs": [
    {
     "name": "stdout",
     "output_type": "stream",
     "text": [
      "<class 'pandas.core.frame.DataFrame'>\n",
      "RangeIndex: 25 entries, 0 to 24\n",
      "Data columns (total 4 columns):\n",
      " #   Column         Non-Null Count  Dtype   \n",
      "---  ------         --------------  -----   \n",
      " 0   property_id    25 non-null     int64   \n",
      " 1   property_name  25 non-null     object  \n",
      " 2   category       25 non-null     category\n",
      " 3   city           25 non-null     category\n",
      "dtypes: category(2), int64(1), object(1)\n",
      "memory usage: 910.0+ bytes\n"
     ]
    }
   ],
   "source": [
    "dim_hotels.info()"
   ]
  },
  {
   "cell_type": "markdown",
   "id": "a0030e6e",
   "metadata": {
    "papermill": {
     "duration": 0.006815,
     "end_time": "2025-06-01T13:39:27.526521",
     "exception": false,
     "start_time": "2025-06-01T13:39:27.519706",
     "status": "completed"
    },
    "tags": []
   },
   "source": [
    "**dim_date table needs corrected date format, delete its \"mm yy\" column (data redundancy), removing w from each row of week number and convert into integer, day_type should be converted into category**"
   ]
  },
  {
   "cell_type": "code",
   "execution_count": 10,
   "id": "0ce2cb2c",
   "metadata": {
    "execution": {
     "iopub.execute_input": "2025-06-01T13:39:27.542023Z",
     "iopub.status.busy": "2025-06-01T13:39:27.541266Z",
     "iopub.status.idle": "2025-06-01T13:39:27.550363Z",
     "shell.execute_reply": "2025-06-01T13:39:27.549453Z"
    },
    "papermill": {
     "duration": 0.018393,
     "end_time": "2025-06-01T13:39:27.551688",
     "exception": false,
     "start_time": "2025-06-01T13:39:27.533295",
     "status": "completed"
    },
    "tags": []
   },
   "outputs": [
    {
     "name": "stdout",
     "output_type": "stream",
     "text": [
      "<class 'pandas.core.frame.DataFrame'>\n",
      "RangeIndex: 92 entries, 0 to 91\n",
      "Data columns (total 4 columns):\n",
      " #   Column    Non-Null Count  Dtype \n",
      "---  ------    --------------  ----- \n",
      " 0   date      92 non-null     object\n",
      " 1   mmm yy    92 non-null     object\n",
      " 2   week no   92 non-null     object\n",
      " 3   day_type  92 non-null     object\n",
      "dtypes: object(4)\n",
      "memory usage: 3.0+ KB\n"
     ]
    }
   ],
   "source": [
    "dim_date.info()"
   ]
  },
  {
   "cell_type": "code",
   "execution_count": 11,
   "id": "635ceaeb",
   "metadata": {
    "execution": {
     "iopub.execute_input": "2025-06-01T13:39:27.566655Z",
     "iopub.status.busy": "2025-06-01T13:39:27.566399Z",
     "iopub.status.idle": "2025-06-01T13:39:27.579447Z",
     "shell.execute_reply": "2025-06-01T13:39:27.578554Z"
    },
    "papermill": {
     "duration": 0.022102,
     "end_time": "2025-06-01T13:39:27.580788",
     "exception": false,
     "start_time": "2025-06-01T13:39:27.558686",
     "status": "completed"
    },
    "tags": []
   },
   "outputs": [
    {
     "name": "stderr",
     "output_type": "stream",
     "text": [
      "/tmp/ipykernel_13/2463475100.py:1: UserWarning: Could not infer format, so each element will be parsed individually, falling back to `dateutil`. To ensure parsing is consistent and as-expected, please specify a format.\n",
      "  dim_date[\"date\"] = pd.to_datetime(dim_date[\"date\"])\n"
     ]
    }
   ],
   "source": [
    "dim_date[\"date\"] = pd.to_datetime(dim_date[\"date\"])"
   ]
  },
  {
   "cell_type": "code",
   "execution_count": 12,
   "id": "2ed82dc7",
   "metadata": {
    "execution": {
     "iopub.execute_input": "2025-06-01T13:39:27.595779Z",
     "iopub.status.busy": "2025-06-01T13:39:27.595512Z",
     "iopub.status.idle": "2025-06-01T13:39:27.602470Z",
     "shell.execute_reply": "2025-06-01T13:39:27.601819Z"
    },
    "papermill": {
     "duration": 0.015778,
     "end_time": "2025-06-01T13:39:27.603654",
     "exception": false,
     "start_time": "2025-06-01T13:39:27.587876",
     "status": "completed"
    },
    "tags": []
   },
   "outputs": [],
   "source": [
    "dim_date.drop([\"mmm yy\", \"week no\"], axis = 1, inplace =True)"
   ]
  },
  {
   "cell_type": "code",
   "execution_count": 13,
   "id": "83a6707c",
   "metadata": {
    "execution": {
     "iopub.execute_input": "2025-06-01T13:39:27.619260Z",
     "iopub.status.busy": "2025-06-01T13:39:27.618587Z",
     "iopub.status.idle": "2025-06-01T13:39:27.623450Z",
     "shell.execute_reply": "2025-06-01T13:39:27.622499Z"
    },
    "papermill": {
     "duration": 0.014083,
     "end_time": "2025-06-01T13:39:27.624819",
     "exception": false,
     "start_time": "2025-06-01T13:39:27.610736",
     "status": "completed"
    },
    "tags": []
   },
   "outputs": [],
   "source": [
    "dim_date.rename({\"day_type\":\"Weekend\"}, axis = 1, inplace = True)"
   ]
  },
  {
   "cell_type": "code",
   "execution_count": 14,
   "id": "d4edfde8",
   "metadata": {
    "execution": {
     "iopub.execute_input": "2025-06-01T13:39:27.640335Z",
     "iopub.status.busy": "2025-06-01T13:39:27.639715Z",
     "iopub.status.idle": "2025-06-01T13:39:27.647661Z",
     "shell.execute_reply": "2025-06-01T13:39:27.646758Z"
    },
    "papermill": {
     "duration": 0.017221,
     "end_time": "2025-06-01T13:39:27.649090",
     "exception": false,
     "start_time": "2025-06-01T13:39:27.631869",
     "status": "completed"
    },
    "tags": []
   },
   "outputs": [],
   "source": [
    "dim_date[\"Weekend\"] = np.where(dim_date[\"Weekend\"].isin([\"weekend\"]),1,0)"
   ]
  },
  {
   "cell_type": "code",
   "execution_count": 15,
   "id": "baf65495",
   "metadata": {
    "execution": {
     "iopub.execute_input": "2025-06-01T13:39:27.665148Z",
     "iopub.status.busy": "2025-06-01T13:39:27.664369Z",
     "iopub.status.idle": "2025-06-01T13:39:27.671932Z",
     "shell.execute_reply": "2025-06-01T13:39:27.671190Z"
    },
    "papermill": {
     "duration": 0.017048,
     "end_time": "2025-06-01T13:39:27.673400",
     "exception": false,
     "start_time": "2025-06-01T13:39:27.656352",
     "status": "completed"
    },
    "tags": []
   },
   "outputs": [
    {
     "data": {
      "text/plain": [
       "Weekend\n",
       "0    65\n",
       "1    27\n",
       "Name: count, dtype: int64"
      ]
     },
     "execution_count": 15,
     "metadata": {},
     "output_type": "execute_result"
    }
   ],
   "source": [
    "dim_date[\"Weekend\"].value_counts()"
   ]
  },
  {
   "cell_type": "code",
   "execution_count": 16,
   "id": "743fc6be",
   "metadata": {
    "execution": {
     "iopub.execute_input": "2025-06-01T13:39:27.688992Z",
     "iopub.status.busy": "2025-06-01T13:39:27.688679Z",
     "iopub.status.idle": "2025-06-01T13:39:27.697466Z",
     "shell.execute_reply": "2025-06-01T13:39:27.696568Z"
    },
    "papermill": {
     "duration": 0.017969,
     "end_time": "2025-06-01T13:39:27.698712",
     "exception": false,
     "start_time": "2025-06-01T13:39:27.680743",
     "status": "completed"
    },
    "tags": []
   },
   "outputs": [
    {
     "name": "stdout",
     "output_type": "stream",
     "text": [
      "<class 'pandas.core.frame.DataFrame'>\n",
      "RangeIndex: 92 entries, 0 to 91\n",
      "Data columns (total 2 columns):\n",
      " #   Column   Non-Null Count  Dtype         \n",
      "---  ------   --------------  -----         \n",
      " 0   date     92 non-null     datetime64[ns]\n",
      " 1   Weekend  92 non-null     int64         \n",
      "dtypes: datetime64[ns](1), int64(1)\n",
      "memory usage: 1.6 KB\n"
     ]
    }
   ],
   "source": [
    "dim_date.info()"
   ]
  },
  {
   "cell_type": "markdown",
   "id": "372db45a",
   "metadata": {
    "papermill": {
     "duration": 0.007037,
     "end_time": "2025-06-01T13:39:27.712919",
     "exception": false,
     "start_time": "2025-06-01T13:39:27.705882",
     "status": "completed"
    },
    "tags": []
   },
   "source": [
    "**fact_aggregated_bookings needs check-in date into corrected date format, room_category into category type**"
   ]
  },
  {
   "cell_type": "code",
   "execution_count": 17,
   "id": "14a40d9e",
   "metadata": {
    "execution": {
     "iopub.execute_input": "2025-06-01T13:39:27.728743Z",
     "iopub.status.busy": "2025-06-01T13:39:27.728099Z",
     "iopub.status.idle": "2025-06-01T13:39:27.738706Z",
     "shell.execute_reply": "2025-06-01T13:39:27.737733Z"
    },
    "papermill": {
     "duration": 0.020191,
     "end_time": "2025-06-01T13:39:27.740163",
     "exception": false,
     "start_time": "2025-06-01T13:39:27.719972",
     "status": "completed"
    },
    "tags": []
   },
   "outputs": [
    {
     "name": "stdout",
     "output_type": "stream",
     "text": [
      "<class 'pandas.core.frame.DataFrame'>\n",
      "RangeIndex: 9200 entries, 0 to 9199\n",
      "Data columns (total 5 columns):\n",
      " #   Column               Non-Null Count  Dtype \n",
      "---  ------               --------------  ----- \n",
      " 0   property_id          9200 non-null   int64 \n",
      " 1   check_in_date        9200 non-null   object\n",
      " 2   room_category        9200 non-null   object\n",
      " 3   successful_bookings  9200 non-null   int64 \n",
      " 4   capacity             9200 non-null   int64 \n",
      "dtypes: int64(3), object(2)\n",
      "memory usage: 359.5+ KB\n"
     ]
    }
   ],
   "source": [
    "fact_aggregated_bookings.info()"
   ]
  },
  {
   "cell_type": "code",
   "execution_count": 18,
   "id": "e8836c69",
   "metadata": {
    "execution": {
     "iopub.execute_input": "2025-06-01T13:39:27.756423Z",
     "iopub.status.busy": "2025-06-01T13:39:27.756151Z",
     "iopub.status.idle": "2025-06-01T13:39:27.769673Z",
     "shell.execute_reply": "2025-06-01T13:39:27.768657Z"
    },
    "papermill": {
     "duration": 0.023431,
     "end_time": "2025-06-01T13:39:27.771147",
     "exception": false,
     "start_time": "2025-06-01T13:39:27.747716",
     "status": "completed"
    },
    "tags": []
   },
   "outputs": [
    {
     "name": "stderr",
     "output_type": "stream",
     "text": [
      "/tmp/ipykernel_13/261419033.py:1: UserWarning: Could not infer format, so each element will be parsed individually, falling back to `dateutil`. To ensure parsing is consistent and as-expected, please specify a format.\n",
      "  fact_aggregated_bookings[\"check_in_date\"] = pd.to_datetime(fact_aggregated_bookings[\"check_in_date\"])\n"
     ]
    }
   ],
   "source": [
    "fact_aggregated_bookings[\"check_in_date\"] = pd.to_datetime(fact_aggregated_bookings[\"check_in_date\"])\n",
    "fact_aggregated_bookings[\"room_category\"] = fact_aggregated_bookings[\"room_category\"].astype(\"category\")"
   ]
  },
  {
   "cell_type": "code",
   "execution_count": 19,
   "id": "ce1a7905",
   "metadata": {
    "execution": {
     "iopub.execute_input": "2025-06-01T13:39:27.788031Z",
     "iopub.status.busy": "2025-06-01T13:39:27.787271Z",
     "iopub.status.idle": "2025-06-01T13:39:27.798531Z",
     "shell.execute_reply": "2025-06-01T13:39:27.797617Z"
    },
    "papermill": {
     "duration": 0.021404,
     "end_time": "2025-06-01T13:39:27.800082",
     "exception": false,
     "start_time": "2025-06-01T13:39:27.778678",
     "status": "completed"
    },
    "tags": []
   },
   "outputs": [
    {
     "name": "stdout",
     "output_type": "stream",
     "text": [
      "<class 'pandas.core.frame.DataFrame'>\n",
      "RangeIndex: 9200 entries, 0 to 9199\n",
      "Data columns (total 5 columns):\n",
      " #   Column               Non-Null Count  Dtype         \n",
      "---  ------               --------------  -----         \n",
      " 0   property_id          9200 non-null   int64         \n",
      " 1   check_in_date        9200 non-null   datetime64[ns]\n",
      " 2   room_category        9200 non-null   category      \n",
      " 3   successful_bookings  9200 non-null   int64         \n",
      " 4   capacity             9200 non-null   int64         \n",
      "dtypes: category(1), datetime64[ns](1), int64(3)\n",
      "memory usage: 296.8 KB\n"
     ]
    }
   ],
   "source": [
    "fact_aggregated_bookings.info()"
   ]
  },
  {
   "cell_type": "markdown",
   "id": "349091d4",
   "metadata": {
    "papermill": {
     "duration": 0.007268,
     "end_time": "2025-06-01T13:39:27.815068",
     "exception": false,
     "start_time": "2025-06-01T13:39:27.807800",
     "status": "completed"
    },
    "tags": []
   },
   "source": [
    "**fact_bookings has missing values in ratings_given column, booking & checkin & checkout dates must be converted into date type, room_category & booking_platform & booking_status into category**"
   ]
  },
  {
   "cell_type": "code",
   "execution_count": 20,
   "id": "866c973c",
   "metadata": {
    "execution": {
     "iopub.execute_input": "2025-06-01T13:39:27.831552Z",
     "iopub.status.busy": "2025-06-01T13:39:27.830883Z",
     "iopub.status.idle": "2025-06-01T13:39:27.889801Z",
     "shell.execute_reply": "2025-06-01T13:39:27.888639Z"
    },
    "papermill": {
     "duration": 0.068719,
     "end_time": "2025-06-01T13:39:27.891241",
     "exception": false,
     "start_time": "2025-06-01T13:39:27.822522",
     "status": "completed"
    },
    "tags": []
   },
   "outputs": [
    {
     "name": "stdout",
     "output_type": "stream",
     "text": [
      "<class 'pandas.core.frame.DataFrame'>\n",
      "RangeIndex: 134590 entries, 0 to 134589\n",
      "Data columns (total 12 columns):\n",
      " #   Column             Non-Null Count   Dtype  \n",
      "---  ------             --------------   -----  \n",
      " 0   booking_id         134590 non-null  object \n",
      " 1   property_id        134590 non-null  int64  \n",
      " 2   booking_date       134590 non-null  object \n",
      " 3   check_in_date      134590 non-null  object \n",
      " 4   checkout_date      134590 non-null  object \n",
      " 5   no_guests          134590 non-null  int64  \n",
      " 6   room_category      134590 non-null  object \n",
      " 7   booking_platform   134590 non-null  object \n",
      " 8   ratings_given      56683 non-null   float64\n",
      " 9   booking_status     134590 non-null  object \n",
      " 10  revenue_generated  134590 non-null  int64  \n",
      " 11  revenue_realized   134590 non-null  int64  \n",
      "dtypes: float64(1), int64(4), object(7)\n",
      "memory usage: 12.3+ MB\n"
     ]
    }
   ],
   "source": [
    "fact_bookings.info()"
   ]
  },
  {
   "cell_type": "code",
   "execution_count": 21,
   "id": "f82a82f9",
   "metadata": {
    "execution": {
     "iopub.execute_input": "2025-06-01T13:39:27.974932Z",
     "iopub.status.busy": "2025-06-01T13:39:27.974086Z",
     "iopub.status.idle": "2025-06-01T13:39:27.995062Z",
     "shell.execute_reply": "2025-06-01T13:39:27.994093Z"
    },
    "papermill": {
     "duration": 0.097284,
     "end_time": "2025-06-01T13:39:27.996373",
     "exception": false,
     "start_time": "2025-06-01T13:39:27.899089",
     "status": "completed"
    },
    "tags": []
   },
   "outputs": [
    {
     "name": "stderr",
     "output_type": "stream",
     "text": [
      "/usr/local/lib/python3.11/dist-packages/pandas/io/formats/format.py:1458: RuntimeWarning: invalid value encountered in greater\n",
      "  has_large_values = (abs_vals > 1e6).any()\n",
      "/usr/local/lib/python3.11/dist-packages/pandas/io/formats/format.py:1459: RuntimeWarning: invalid value encountered in less\n",
      "  has_small_values = ((abs_vals < 10 ** (-self.digits)) & (abs_vals > 0)).any()\n",
      "/usr/local/lib/python3.11/dist-packages/pandas/io/formats/format.py:1459: RuntimeWarning: invalid value encountered in greater\n",
      "  has_small_values = ((abs_vals < 10 ** (-self.digits)) & (abs_vals > 0)).any()\n"
     ]
    },
    {
     "data": {
      "text/html": [
       "<div>\n",
       "<style scoped>\n",
       "    .dataframe tbody tr th:only-of-type {\n",
       "        vertical-align: middle;\n",
       "    }\n",
       "\n",
       "    .dataframe tbody tr th {\n",
       "        vertical-align: top;\n",
       "    }\n",
       "\n",
       "    .dataframe thead th {\n",
       "        text-align: right;\n",
       "    }\n",
       "</style>\n",
       "<table border=\"1\" class=\"dataframe\">\n",
       "  <thead>\n",
       "    <tr style=\"text-align: right;\">\n",
       "      <th></th>\n",
       "      <th>booking_id</th>\n",
       "      <th>property_id</th>\n",
       "      <th>booking_date</th>\n",
       "      <th>check_in_date</th>\n",
       "      <th>checkout_date</th>\n",
       "      <th>no_guests</th>\n",
       "      <th>room_category</th>\n",
       "      <th>booking_platform</th>\n",
       "      <th>ratings_given</th>\n",
       "      <th>booking_status</th>\n",
       "      <th>revenue_generated</th>\n",
       "      <th>revenue_realized</th>\n",
       "    </tr>\n",
       "  </thead>\n",
       "  <tbody>\n",
       "    <tr>\n",
       "      <th>0</th>\n",
       "      <td>May012216558RT11</td>\n",
       "      <td>16558</td>\n",
       "      <td>2022-04-27</td>\n",
       "      <td>2022-05-01</td>\n",
       "      <td>2022-05-02</td>\n",
       "      <td>3</td>\n",
       "      <td>RT1</td>\n",
       "      <td>direct online</td>\n",
       "      <td>1.0</td>\n",
       "      <td>Checked Out</td>\n",
       "      <td>10010</td>\n",
       "      <td>10010</td>\n",
       "    </tr>\n",
       "    <tr>\n",
       "      <th>1</th>\n",
       "      <td>May012216558RT12</td>\n",
       "      <td>16558</td>\n",
       "      <td>2022-04-30</td>\n",
       "      <td>2022-05-01</td>\n",
       "      <td>2022-05-02</td>\n",
       "      <td>2</td>\n",
       "      <td>RT1</td>\n",
       "      <td>others</td>\n",
       "      <td>NaN</td>\n",
       "      <td>Cancelled</td>\n",
       "      <td>9100</td>\n",
       "      <td>3640</td>\n",
       "    </tr>\n",
       "    <tr>\n",
       "      <th>2</th>\n",
       "      <td>May012216558RT13</td>\n",
       "      <td>16558</td>\n",
       "      <td>2022-04-28</td>\n",
       "      <td>2022-05-01</td>\n",
       "      <td>2022-05-04</td>\n",
       "      <td>2</td>\n",
       "      <td>RT1</td>\n",
       "      <td>logtrip</td>\n",
       "      <td>5.0</td>\n",
       "      <td>Checked Out</td>\n",
       "      <td>9100</td>\n",
       "      <td>9100</td>\n",
       "    </tr>\n",
       "    <tr>\n",
       "      <th>3</th>\n",
       "      <td>May012216558RT14</td>\n",
       "      <td>16558</td>\n",
       "      <td>2022-04-28</td>\n",
       "      <td>2022-05-01</td>\n",
       "      <td>2022-05-02</td>\n",
       "      <td>2</td>\n",
       "      <td>RT1</td>\n",
       "      <td>others</td>\n",
       "      <td>NaN</td>\n",
       "      <td>Cancelled</td>\n",
       "      <td>9100</td>\n",
       "      <td>3640</td>\n",
       "    </tr>\n",
       "    <tr>\n",
       "      <th>4</th>\n",
       "      <td>May012216558RT15</td>\n",
       "      <td>16558</td>\n",
       "      <td>2022-04-27</td>\n",
       "      <td>2022-05-01</td>\n",
       "      <td>2022-05-02</td>\n",
       "      <td>4</td>\n",
       "      <td>RT1</td>\n",
       "      <td>direct online</td>\n",
       "      <td>5.0</td>\n",
       "      <td>Checked Out</td>\n",
       "      <td>10920</td>\n",
       "      <td>10920</td>\n",
       "    </tr>\n",
       "  </tbody>\n",
       "</table>\n",
       "</div>"
      ],
      "text/plain": [
       "         booking_id  property_id booking_date check_in_date checkout_date  \\\n",
       "0  May012216558RT11        16558   2022-04-27    2022-05-01    2022-05-02   \n",
       "1  May012216558RT12        16558   2022-04-30    2022-05-01    2022-05-02   \n",
       "2  May012216558RT13        16558   2022-04-28    2022-05-01    2022-05-04   \n",
       "3  May012216558RT14        16558   2022-04-28    2022-05-01    2022-05-02   \n",
       "4  May012216558RT15        16558   2022-04-27    2022-05-01    2022-05-02   \n",
       "\n",
       "   no_guests room_category booking_platform  ratings_given booking_status  \\\n",
       "0          3           RT1    direct online            1.0    Checked Out   \n",
       "1          2           RT1           others            NaN      Cancelled   \n",
       "2          2           RT1          logtrip            5.0    Checked Out   \n",
       "3          2           RT1           others            NaN      Cancelled   \n",
       "4          4           RT1    direct online            5.0    Checked Out   \n",
       "\n",
       "   revenue_generated  revenue_realized  \n",
       "0              10010             10010  \n",
       "1               9100              3640  \n",
       "2               9100              9100  \n",
       "3               9100              3640  \n",
       "4              10920             10920  "
      ]
     },
     "execution_count": 21,
     "metadata": {},
     "output_type": "execute_result"
    }
   ],
   "source": [
    "fact_bookings.head()"
   ]
  },
  {
   "cell_type": "code",
   "execution_count": 22,
   "id": "364aebd1",
   "metadata": {
    "execution": {
     "iopub.execute_input": "2025-06-01T13:39:28.014819Z",
     "iopub.status.busy": "2025-06-01T13:39:28.014329Z",
     "iopub.status.idle": "2025-06-01T13:39:28.066801Z",
     "shell.execute_reply": "2025-06-01T13:39:28.065952Z"
    },
    "papermill": {
     "duration": 0.063914,
     "end_time": "2025-06-01T13:39:28.068510",
     "exception": false,
     "start_time": "2025-06-01T13:39:28.004596",
     "status": "completed"
    },
    "tags": []
   },
   "outputs": [],
   "source": [
    "fact_bookings[\"booking_date\"] = pd.to_datetime(fact_bookings[\"booking_date\"])\n",
    "fact_bookings[\"check_in_date\"] = pd.to_datetime(fact_bookings[\"check_in_date\"])\n",
    "fact_bookings[\"checkout_date\"] = pd.to_datetime(fact_bookings[\"checkout_date\"])"
   ]
  },
  {
   "cell_type": "code",
   "execution_count": 23,
   "id": "8ea79e6e",
   "metadata": {
    "execution": {
     "iopub.execute_input": "2025-06-01T13:39:28.085314Z",
     "iopub.status.busy": "2025-06-01T13:39:28.085042Z",
     "iopub.status.idle": "2025-06-01T13:39:28.117946Z",
     "shell.execute_reply": "2025-06-01T13:39:28.117076Z"
    },
    "papermill": {
     "duration": 0.043015,
     "end_time": "2025-06-01T13:39:28.119609",
     "exception": false,
     "start_time": "2025-06-01T13:39:28.076594",
     "status": "completed"
    },
    "tags": []
   },
   "outputs": [],
   "source": [
    "fact_bookings[[\"room_category\",\"booking_platform\",\"booking_status\"]] = fact_bookings[[\"room_category\",\"booking_platform\",\"booking_status\"]].astype(\"category\")"
   ]
  },
  {
   "cell_type": "code",
   "execution_count": 24,
   "id": "7da77ec7",
   "metadata": {
    "execution": {
     "iopub.execute_input": "2025-06-01T13:39:28.137363Z",
     "iopub.status.busy": "2025-06-01T13:39:28.136799Z",
     "iopub.status.idle": "2025-06-01T13:39:28.158130Z",
     "shell.execute_reply": "2025-06-01T13:39:28.156942Z"
    },
    "papermill": {
     "duration": 0.031729,
     "end_time": "2025-06-01T13:39:28.159569",
     "exception": false,
     "start_time": "2025-06-01T13:39:28.127840",
     "status": "completed"
    },
    "tags": []
   },
   "outputs": [
    {
     "name": "stdout",
     "output_type": "stream",
     "text": [
      "<class 'pandas.core.frame.DataFrame'>\n",
      "RangeIndex: 134590 entries, 0 to 134589\n",
      "Data columns (total 12 columns):\n",
      " #   Column             Non-Null Count   Dtype         \n",
      "---  ------             --------------   -----         \n",
      " 0   booking_id         134590 non-null  object        \n",
      " 1   property_id        134590 non-null  int64         \n",
      " 2   booking_date       134590 non-null  datetime64[ns]\n",
      " 3   check_in_date      134590 non-null  datetime64[ns]\n",
      " 4   checkout_date      134590 non-null  datetime64[ns]\n",
      " 5   no_guests          134590 non-null  int64         \n",
      " 6   room_category      134590 non-null  category      \n",
      " 7   booking_platform   134590 non-null  category      \n",
      " 8   ratings_given      56683 non-null   float64       \n",
      " 9   booking_status     134590 non-null  category      \n",
      " 10  revenue_generated  134590 non-null  int64         \n",
      " 11  revenue_realized   134590 non-null  int64         \n",
      "dtypes: category(3), datetime64[ns](3), float64(1), int64(4), object(1)\n",
      "memory usage: 9.6+ MB\n"
     ]
    }
   ],
   "source": [
    "fact_bookings.info()"
   ]
  },
  {
   "cell_type": "markdown",
   "id": "3ebcc721",
   "metadata": {
    "papermill": {
     "duration": 0.007933,
     "end_time": "2025-06-01T13:39:28.175640",
     "exception": false,
     "start_time": "2025-06-01T13:39:28.167707",
     "status": "completed"
    },
    "tags": []
   },
   "source": [
    "Since ratings_given is just 58% filled, we cannot fill it with simple imputation methods like mean imputation. We will use RandomForest inputation here (fast and accurate). This uses RandomForest module on its backend to predict what people might have given ratings to the property."
   ]
  },
  {
   "cell_type": "code",
   "execution_count": 25,
   "id": "8ec42a0f",
   "metadata": {
    "execution": {
     "iopub.execute_input": "2025-06-01T13:39:28.193723Z",
     "iopub.status.busy": "2025-06-01T13:39:28.193037Z",
     "iopub.status.idle": "2025-06-01T13:39:32.337148Z",
     "shell.execute_reply": "2025-06-01T13:39:32.336291Z"
    },
    "papermill": {
     "duration": 4.155076,
     "end_time": "2025-06-01T13:39:32.338746",
     "exception": false,
     "start_time": "2025-06-01T13:39:28.183670",
     "status": "completed"
    },
    "tags": []
   },
   "outputs": [
    {
     "name": "stderr",
     "output_type": "stream",
     "text": [
      "/usr/local/lib/python3.11/dist-packages/sklearn/ensemble/_forest.py:413: FutureWarning: `max_features='auto'` has been deprecated in 1.1 and will be removed in 1.3. To keep the past behaviour, explicitly set `max_features=1.0` or remove this parameter as it is also the default value for RandomForestRegressors and ExtraTreesRegressors.\n",
      "  warn(\n",
      "/usr/local/lib/python3.11/dist-packages/sklearn/ensemble/_forest.py:413: FutureWarning: `max_features='auto'` has been deprecated in 1.1 and will be removed in 1.3. To keep the past behaviour, explicitly set `max_features=1.0` or remove this parameter as it is also the default value for RandomForestRegressors and ExtraTreesRegressors.\n",
      "  warn(\n",
      "/usr/local/lib/python3.11/dist-packages/sklearn/ensemble/_forest.py:413: FutureWarning: `max_features='auto'` has been deprecated in 1.1 and will be removed in 1.3. To keep the past behaviour, explicitly set `max_features=1.0` or remove this parameter as it is also the default value for RandomForestRegressors and ExtraTreesRegressors.\n",
      "  warn(\n",
      "/usr/local/lib/python3.11/dist-packages/sklearn/ensemble/_forest.py:413: FutureWarning: `max_features='auto'` has been deprecated in 1.1 and will be removed in 1.3. To keep the past behaviour, explicitly set `max_features=1.0` or remove this parameter as it is also the default value for RandomForestRegressors and ExtraTreesRegressors.\n",
      "  warn(\n",
      "/usr/local/lib/python3.11/dist-packages/sklearn/ensemble/_forest.py:413: FutureWarning: `max_features='auto'` has been deprecated in 1.1 and will be removed in 1.3. To keep the past behaviour, explicitly set `max_features=1.0` or remove this parameter as it is also the default value for RandomForestRegressors and ExtraTreesRegressors.\n",
      "  warn(\n"
     ]
    }
   ],
   "source": [
    "from sklearn.experimental import enable_iterative_imputer \n",
    "from sklearn.impute import IterativeImputer\n",
    "from sklearn.ensemble import RandomForestRegressor\n",
    "\n",
    "df_minimal = fact_bookings[['property_id', 'room_category', \n",
    "                           'revenue_realized', 'no_guests', 'ratings_given']].copy()\n",
    "\n",
    "df_minimal['room_category_encoded'] = pd.Categorical(fact_bookings['room_category']).codes\n",
    "df_minimal.drop('room_category', axis=1, inplace=True)\n",
    "\n",
    "limited_rf_imputer = IterativeImputer(\n",
    "    estimator=RandomForestRegressor(\n",
    "        n_estimators=15,\n",
    "        max_depth=8,\n",
    "        min_samples_split=5,\n",
    "        min_samples_leaf=2,\n",
    "        max_features='auto',\n",
    "        n_jobs=-1,\n",
    "        random_state=42\n",
    "    ),\n",
    "    max_iter=1,\n",
    "    random_state=42,\n",
    "    initial_strategy='median'\n",
    ")\n",
    "\n",
    "X_imputed = limited_rf_imputer.fit_transform(df_minimal)\n",
    "\n",
    "fact_bookings['ratings_given'] = X_imputed[:, -1]"
   ]
  },
  {
   "cell_type": "code",
   "execution_count": 26,
   "id": "3589da6b",
   "metadata": {
    "execution": {
     "iopub.execute_input": "2025-06-01T13:39:32.357744Z",
     "iopub.status.busy": "2025-06-01T13:39:32.356761Z",
     "iopub.status.idle": "2025-06-01T13:39:32.366290Z",
     "shell.execute_reply": "2025-06-01T13:39:32.365601Z"
    },
    "papermill": {
     "duration": 0.019955,
     "end_time": "2025-06-01T13:39:32.367477",
     "exception": false,
     "start_time": "2025-06-01T13:39:32.347522",
     "status": "completed"
    },
    "tags": []
   },
   "outputs": [
    {
     "data": {
      "text/html": [
       "<div>\n",
       "<style scoped>\n",
       "    .dataframe tbody tr th:only-of-type {\n",
       "        vertical-align: middle;\n",
       "    }\n",
       "\n",
       "    .dataframe tbody tr th {\n",
       "        vertical-align: top;\n",
       "    }\n",
       "\n",
       "    .dataframe thead th {\n",
       "        text-align: right;\n",
       "    }\n",
       "</style>\n",
       "<table border=\"1\" class=\"dataframe\">\n",
       "  <thead>\n",
       "    <tr style=\"text-align: right;\">\n",
       "      <th></th>\n",
       "      <th>property_id</th>\n",
       "      <th>check_in_date</th>\n",
       "      <th>room_category</th>\n",
       "      <th>successful_bookings</th>\n",
       "      <th>capacity</th>\n",
       "    </tr>\n",
       "  </thead>\n",
       "  <tbody>\n",
       "    <tr>\n",
       "      <th>0</th>\n",
       "      <td>16559</td>\n",
       "      <td>2022-05-01</td>\n",
       "      <td>RT1</td>\n",
       "      <td>25</td>\n",
       "      <td>30</td>\n",
       "    </tr>\n",
       "    <tr>\n",
       "      <th>1</th>\n",
       "      <td>19562</td>\n",
       "      <td>2022-05-01</td>\n",
       "      <td>RT1</td>\n",
       "      <td>28</td>\n",
       "      <td>30</td>\n",
       "    </tr>\n",
       "    <tr>\n",
       "      <th>2</th>\n",
       "      <td>19563</td>\n",
       "      <td>2022-05-01</td>\n",
       "      <td>RT1</td>\n",
       "      <td>23</td>\n",
       "      <td>30</td>\n",
       "    </tr>\n",
       "    <tr>\n",
       "      <th>3</th>\n",
       "      <td>17558</td>\n",
       "      <td>2022-05-01</td>\n",
       "      <td>RT1</td>\n",
       "      <td>13</td>\n",
       "      <td>19</td>\n",
       "    </tr>\n",
       "    <tr>\n",
       "      <th>4</th>\n",
       "      <td>16558</td>\n",
       "      <td>2022-05-01</td>\n",
       "      <td>RT1</td>\n",
       "      <td>18</td>\n",
       "      <td>19</td>\n",
       "    </tr>\n",
       "  </tbody>\n",
       "</table>\n",
       "</div>"
      ],
      "text/plain": [
       "   property_id check_in_date room_category  successful_bookings  capacity\n",
       "0        16559    2022-05-01           RT1                   25        30\n",
       "1        19562    2022-05-01           RT1                   28        30\n",
       "2        19563    2022-05-01           RT1                   23        30\n",
       "3        17558    2022-05-01           RT1                   13        19\n",
       "4        16558    2022-05-01           RT1                   18        19"
      ]
     },
     "execution_count": 26,
     "metadata": {},
     "output_type": "execute_result"
    }
   ],
   "source": [
    "fact_aggregated_bookings.head()"
   ]
  },
  {
   "cell_type": "code",
   "execution_count": 27,
   "id": "fa6d450d",
   "metadata": {
    "execution": {
     "iopub.execute_input": "2025-06-01T13:39:32.385399Z",
     "iopub.status.busy": "2025-06-01T13:39:32.385105Z",
     "iopub.status.idle": "2025-06-01T13:39:32.392442Z",
     "shell.execute_reply": "2025-06-01T13:39:32.391842Z"
    },
    "papermill": {
     "duration": 0.017698,
     "end_time": "2025-06-01T13:39:32.393664",
     "exception": false,
     "start_time": "2025-06-01T13:39:32.375966",
     "status": "completed"
    },
    "tags": []
   },
   "outputs": [],
   "source": [
    "room_mapping = {\n",
    "    'RT1': 'Standard',\n",
    "    'RT2': 'Elite', \n",
    "    'RT3': 'Premium',\n",
    "    'RT4': 'Presidential'\n",
    "}\n",
    "\n",
    "fact_aggregated_bookings['room_category'] = fact_aggregated_bookings['room_category'].map(room_mapping)\n",
    "fact_bookings['room_category'] = fact_bookings['room_category'].map(room_mapping)"
   ]
  },
  {
   "cell_type": "markdown",
   "id": "d36ee933",
   "metadata": {
    "papermill": {
     "duration": 0.007934,
     "end_time": "2025-06-01T13:39:32.410295",
     "exception": false,
     "start_time": "2025-06-01T13:39:32.402361",
     "status": "completed"
    },
    "tags": []
   },
   "source": [
    "# Merging all the Dataframes together into a single DataFrame and extracting out some more features from it"
   ]
  },
  {
   "cell_type": "code",
   "execution_count": 28,
   "id": "784a1c13",
   "metadata": {
    "execution": {
     "iopub.execute_input": "2025-06-01T13:39:32.428082Z",
     "iopub.status.busy": "2025-06-01T13:39:32.427743Z",
     "iopub.status.idle": "2025-06-01T13:39:32.432418Z",
     "shell.execute_reply": "2025-06-01T13:39:32.431768Z"
    },
    "papermill": {
     "duration": 0.015103,
     "end_time": "2025-06-01T13:39:32.433771",
     "exception": false,
     "start_time": "2025-06-01T13:39:32.418668",
     "status": "completed"
    },
    "tags": []
   },
   "outputs": [],
   "source": [
    "# Rename columns category and city\n",
    "dim_hotels = dim_hotels.rename(columns={\n",
    "    'category': 'property_category', \n",
    "    'city': 'property_city'})"
   ]
  },
  {
   "cell_type": "code",
   "execution_count": 29,
   "id": "fec1f03d",
   "metadata": {
    "execution": {
     "iopub.execute_input": "2025-06-01T13:39:32.452199Z",
     "iopub.status.busy": "2025-06-01T13:39:32.451848Z",
     "iopub.status.idle": "2025-06-01T13:39:32.481658Z",
     "shell.execute_reply": "2025-06-01T13:39:32.480947Z"
    },
    "papermill": {
     "duration": 0.041033,
     "end_time": "2025-06-01T13:39:32.483329",
     "exception": false,
     "start_time": "2025-06-01T13:39:32.442296",
     "status": "completed"
    },
    "tags": []
   },
   "outputs": [],
   "source": [
    "# Merge fact_bookings with renamed_dim_hotels on property_id with left join\n",
    "fact_bookings = fact_bookings.merge(dim_hotels, how='left', on='property_id')\n",
    "# Merge fact_aggregated_bookings with renamed_dim_hotels on property_id with left join\n",
    "fact_aggregated_bookings = fact_aggregated_bookings.merge(dim_hotels, how='left', on='property_id')"
   ]
  },
  {
   "cell_type": "code",
   "execution_count": 30,
   "id": "6fa35306",
   "metadata": {
    "execution": {
     "iopub.execute_input": "2025-06-01T13:39:32.501359Z",
     "iopub.status.busy": "2025-06-01T13:39:32.501068Z",
     "iopub.status.idle": "2025-06-01T13:39:32.534250Z",
     "shell.execute_reply": "2025-06-01T13:39:32.533156Z"
    },
    "papermill": {
     "duration": 0.044121,
     "end_time": "2025-06-01T13:39:32.535882",
     "exception": false,
     "start_time": "2025-06-01T13:39:32.491761",
     "status": "completed"
    },
    "tags": []
   },
   "outputs": [
    {
     "name": "stdout",
     "output_type": "stream",
     "text": [
      "<class 'pandas.core.frame.DataFrame'>\n",
      "RangeIndex: 134590 entries, 0 to 134589\n",
      "Data columns (total 15 columns):\n",
      " #   Column             Non-Null Count   Dtype         \n",
      "---  ------             --------------   -----         \n",
      " 0   booking_id         134590 non-null  object        \n",
      " 1   property_id        134590 non-null  int64         \n",
      " 2   booking_date       134590 non-null  datetime64[ns]\n",
      " 3   check_in_date      134590 non-null  datetime64[ns]\n",
      " 4   checkout_date      134590 non-null  datetime64[ns]\n",
      " 5   no_guests          134590 non-null  int64         \n",
      " 6   room_category      134590 non-null  category      \n",
      " 7   booking_platform   134590 non-null  category      \n",
      " 8   ratings_given      134590 non-null  float64       \n",
      " 9   booking_status     134590 non-null  category      \n",
      " 10  revenue_generated  134590 non-null  int64         \n",
      " 11  revenue_realized   134590 non-null  int64         \n",
      " 12  property_name      134590 non-null  object        \n",
      " 13  property_category  134590 non-null  category      \n",
      " 14  property_city      134590 non-null  category      \n",
      "dtypes: category(5), datetime64[ns](3), float64(1), int64(4), object(2)\n",
      "memory usage: 10.9+ MB\n"
     ]
    }
   ],
   "source": [
    "fact_bookings.info()"
   ]
  },
  {
   "cell_type": "code",
   "execution_count": 31,
   "id": "3031fd0f",
   "metadata": {
    "execution": {
     "iopub.execute_input": "2025-06-01T13:39:32.555324Z",
     "iopub.status.busy": "2025-06-01T13:39:32.554409Z",
     "iopub.status.idle": "2025-06-01T13:39:32.566086Z",
     "shell.execute_reply": "2025-06-01T13:39:32.564978Z"
    },
    "papermill": {
     "duration": 0.022739,
     "end_time": "2025-06-01T13:39:32.567594",
     "exception": false,
     "start_time": "2025-06-01T13:39:32.544855",
     "status": "completed"
    },
    "tags": []
   },
   "outputs": [
    {
     "name": "stdout",
     "output_type": "stream",
     "text": [
      "<class 'pandas.core.frame.DataFrame'>\n",
      "RangeIndex: 9200 entries, 0 to 9199\n",
      "Data columns (total 8 columns):\n",
      " #   Column               Non-Null Count  Dtype         \n",
      "---  ------               --------------  -----         \n",
      " 0   property_id          9200 non-null   int64         \n",
      " 1   check_in_date        9200 non-null   datetime64[ns]\n",
      " 2   room_category        9200 non-null   category      \n",
      " 3   successful_bookings  9200 non-null   int64         \n",
      " 4   capacity             9200 non-null   int64         \n",
      " 5   property_name        9200 non-null   object        \n",
      " 6   property_category    9200 non-null   category      \n",
      " 7   property_city        9200 non-null   category      \n",
      "dtypes: category(3), datetime64[ns](1), int64(3), object(1)\n",
      "memory usage: 387.0+ KB\n"
     ]
    }
   ],
   "source": [
    "fact_aggregated_bookings.info()"
   ]
  },
  {
   "cell_type": "markdown",
   "id": "9ba6f1cd",
   "metadata": {
    "papermill": {
     "duration": 0.008103,
     "end_time": "2025-06-01T13:39:32.584280",
     "exception": false,
     "start_time": "2025-06-01T13:39:32.576177",
     "status": "completed"
    },
    "tags": []
   },
   "source": [
    "# New Features Required in the Dataframe\n",
    "    •\t`day_of_week` = extract weekday from check_in_date\n",
    "\t•\t`is_weekend` = boolean flag for weekend vs weekday\n",
    "\t•\t`booking_count` = count of successful bookings by room type and day type\n",
    "\n",
    "    •\t`occupancy_rate` = successful_bookings / capacity\n",
    "\t•\t`month_year` = extract from check_in_date for seasonal grouping\n",
    "\t•\t`total_revenue` = sum of revenue_realized by time period\n",
    "\n",
    "\t•\t`revenue_gap` = revenue_generated - revenue_realized (potential indicator of service losses)\n",
    "\t•\t`revenue_per_guest` = revenue_realized / no_guests\n",
    "\t•\t`service_utilization_proxy` = analysis of revenue patterns by property/room type\n",
    "\n",
    "\t•\t`stay_duration` = checkout_date - check_in_date\n",
    "\t•\t`spending_per_guest` = revenue_realized / no_guests\n",
    "\t•\t`spending_per_night` = revenue_realized / stay_duration\n",
    "\t•\t`customer_value_tier` = categorization based on total spending\n",
    "\t•\t`average_spending_by_platform` = group analysis by booking channel"
   ]
  },
  {
   "cell_type": "code",
   "execution_count": 32,
   "id": "0aa80d07",
   "metadata": {
    "execution": {
     "iopub.execute_input": "2025-06-01T13:39:32.602518Z",
     "iopub.status.busy": "2025-06-01T13:39:32.602214Z",
     "iopub.status.idle": "2025-06-01T13:39:32.891766Z",
     "shell.execute_reply": "2025-06-01T13:39:32.890946Z"
    },
    "papermill": {
     "duration": 0.30044,
     "end_time": "2025-06-01T13:39:32.893188",
     "exception": false,
     "start_time": "2025-06-01T13:39:32.592748",
     "status": "completed"
    },
    "tags": []
   },
   "outputs": [
    {
     "data": {
      "text/plain": [
       "(134590, 37)"
      ]
     },
     "execution_count": 32,
     "metadata": {},
     "output_type": "execute_result"
    }
   ],
   "source": [
    "fact_bookings['booking_date'] = pd.to_datetime(fact_bookings['booking_date'])\n",
    "fact_bookings['check_in_date'] = pd.to_datetime(fact_bookings['check_in_date'])\n",
    "fact_bookings['checkout_date'] = pd.to_datetime(fact_bookings['checkout_date'])\n",
    "\n",
    "fact_bookings['day_of_week_checkin'] = fact_bookings['check_in_date'].dt.dayofweek\n",
    "fact_bookings['is_weekend_checkin'] = fact_bookings['day_of_week_checkin'].isin([5, 6])\n",
    "fact_bookings['day_name_checkin'] = fact_bookings['check_in_date'].dt.day_name()\n",
    "\n",
    "fact_bookings['month_year'] = fact_bookings['check_in_date'].dt.to_period('M')\n",
    "fact_bookings['quarter'] = fact_bookings['check_in_date'].dt.quarter\n",
    "fact_bookings['month_name'] = fact_bookings['check_in_date'].dt.month_name()\n",
    "fact_bookings['week_number'] = fact_bookings['check_in_date'].dt.isocalendar().week\n",
    "\n",
    "fact_bookings['revenue_gap'] = fact_bookings['revenue_generated'] - fact_bookings['revenue_realized']\n",
    "fact_bookings['revenue_realization_rate'] = fact_bookings['revenue_realized'] / fact_bookings['revenue_generated']\n",
    "fact_bookings['revenue_per_guest'] = fact_bookings['revenue_realized'] / fact_bookings['no_guests']\n",
    "\n",
    "fact_bookings['stay_duration'] = (fact_bookings['checkout_date'] - fact_bookings['check_in_date']).dt.days\n",
    "fact_bookings['spending_per_guest_per_night'] = fact_bookings['revenue_realized'] / (fact_bookings['no_guests'] * fact_bookings['stay_duration'])\n",
    "fact_bookings['booking_lead_time'] = (fact_bookings['check_in_date'] - fact_bookings['booking_date']).dt.days\n",
    "fact_bookings['same_day_booking'] = fact_bookings['booking_lead_time'] == 0\n",
    "fact_bookings['guest_density'] = fact_bookings['no_guests']\n",
    "\n",
    "fact_bookings['revenue_per_guest_quartile'] = pd.qcut(fact_bookings['revenue_per_guest'], q=4, labels=['Low_Value', 'Medium_Value', 'High_Value', 'Premium_Value'])\n",
    "fact_bookings['stay_duration_category'] = pd.cut(fact_bookings['stay_duration'], bins=[0, 1, 3, 7, float('inf')], labels=['Short_Stay', 'Medium_Stay', 'Extended_Stay', 'Long_Stay'])\n",
    "fact_bookings['advance_booking'] = fact_bookings['booking_lead_time'] > 7\n",
    "fact_bookings['last_minute_booking'] = fact_bookings['booking_lead_time'] <= 1\n",
    "\n",
    "fact_bookings['adr_per_guest'] = fact_bookings['revenue_realized'] / (fact_bookings['no_guests'] * fact_bookings['stay_duration'])\n",
    "fact_bookings['is_successful_booking'] = fact_bookings['booking_status'] == 'Checked Out'\n",
    "fact_bookings['high_rating'] = fact_bookings['ratings_given'] >= 4.0\n",
    "\n",
    "fact_bookings.shape"
   ]
  },
  {
   "cell_type": "code",
   "execution_count": 33,
   "id": "c2ae6e4d",
   "metadata": {
    "execution": {
     "iopub.execute_input": "2025-06-01T13:39:32.912174Z",
     "iopub.status.busy": "2025-06-01T13:39:32.911838Z",
     "iopub.status.idle": "2025-06-01T13:39:32.954707Z",
     "shell.execute_reply": "2025-06-01T13:39:32.953820Z"
    },
    "papermill": {
     "duration": 0.05419,
     "end_time": "2025-06-01T13:39:32.956321",
     "exception": false,
     "start_time": "2025-06-01T13:39:32.902131",
     "status": "completed"
    },
    "tags": []
   },
   "outputs": [
    {
     "name": "stderr",
     "output_type": "stream",
     "text": [
      "/tmp/ipykernel_13/3478592517.py:20: FutureWarning: The default of observed=False is deprecated and will be changed to True in a future version of pandas. Pass observed=False to retain current behavior or observed=True to adopt the future default and silence this warning.\n",
      "  room_avg_occupancy = df.groupby('room_category')['occupancy_rate'].transform('mean')\n"
     ]
    },
    {
     "data": {
      "text/plain": [
       "(9200, 24)"
      ]
     },
     "execution_count": 33,
     "metadata": {},
     "output_type": "execute_result"
    }
   ],
   "source": [
    "fact_aggregated_bookings['check_in_date'] = pd.to_datetime(fact_aggregated_bookings['check_in_date'])\n",
    "\n",
    "fact_aggregated_bookings['occupancy_rate'] = fact_aggregated_bookings['successful_bookings'] / fact_aggregated_bookings['capacity']\n",
    "fact_aggregated_bookings['capacity_utilization_pct'] = fact_aggregated_bookings['occupancy_rate'] * 100\n",
    "fact_aggregated_bookings['unused_capacity'] = fact_aggregated_bookings['capacity'] - fact_aggregated_bookings['successful_bookings']\n",
    "\n",
    "fact_aggregated_bookings['month_year'] = fact_aggregated_bookings['check_in_date'].dt.to_period('M')\n",
    "fact_aggregated_bookings['day_of_week'] = fact_aggregated_bookings['check_in_date'].dt.dayofweek\n",
    "fact_aggregated_bookings['is_weekend'] = fact_aggregated_bookings['day_of_week'].isin([5, 6])\n",
    "fact_aggregated_bookings['day_name'] = fact_aggregated_bookings['check_in_date'].dt.day_name()\n",
    "fact_aggregated_bookings['quarter'] = fact_aggregated_bookings['check_in_date'].dt.quarter\n",
    "fact_aggregated_bookings['month_name'] = fact_aggregated_bookings['check_in_date'].dt.month_name()\n",
    "fact_aggregated_bookings['week_number'] = fact_aggregated_bookings['check_in_date'].dt.isocalendar().week\n",
    "\n",
    "fact_aggregated_bookings['high_occupancy'] = fact_aggregated_bookings['occupancy_rate'] > 0.8\n",
    "fact_aggregated_bookings['low_occupancy'] = fact_aggregated_bookings['occupancy_rate'] < 0.5\n",
    "fact_aggregated_bookings['at_full_capacity'] = fact_aggregated_bookings['occupancy_rate'] >= 1.0\n",
    "\n",
    "def create_room_performance_features(df):\n",
    "    room_avg_occupancy = df.groupby('room_category')['occupancy_rate'].transform('mean')\n",
    "    df['room_category_avg_occupancy'] = room_avg_occupancy\n",
    "    df['occupancy_vs_room_avg'] = df['occupancy_rate'] - df['room_category_avg_occupancy']\n",
    "    df['room_performance_rank'] = df.groupby(['property_id', 'check_in_date'])['occupancy_rate'].rank(ascending=False)\n",
    "    return df\n",
    "\n",
    "fact_aggregated_bookings = create_room_performance_features(fact_aggregated_bookings)\n",
    "\n",
    "fact_aggregated_bookings.shape"
   ]
  },
  {
   "cell_type": "code",
   "execution_count": 34,
   "id": "46a5cef0",
   "metadata": {
    "execution": {
     "iopub.execute_input": "2025-06-01T13:39:32.975063Z",
     "iopub.status.busy": "2025-06-01T13:39:32.974742Z",
     "iopub.status.idle": "2025-06-01T13:39:33.036053Z",
     "shell.execute_reply": "2025-06-01T13:39:33.035116Z"
    },
    "papermill": {
     "duration": 0.072409,
     "end_time": "2025-06-01T13:39:33.037695",
     "exception": false,
     "start_time": "2025-06-01T13:39:32.965286",
     "status": "completed"
    },
    "tags": []
   },
   "outputs": [
    {
     "name": "stdout",
     "output_type": "stream",
     "text": [
      "<class 'pandas.core.frame.DataFrame'>\n",
      "RangeIndex: 134590 entries, 0 to 134589\n",
      "Data columns (total 37 columns):\n",
      " #   Column                        Non-Null Count   Dtype         \n",
      "---  ------                        --------------   -----         \n",
      " 0   booking_id                    134590 non-null  object        \n",
      " 1   property_id                   134590 non-null  int64         \n",
      " 2   booking_date                  134590 non-null  datetime64[ns]\n",
      " 3   check_in_date                 134590 non-null  datetime64[ns]\n",
      " 4   checkout_date                 134590 non-null  datetime64[ns]\n",
      " 5   no_guests                     134590 non-null  int64         \n",
      " 6   room_category                 134590 non-null  category      \n",
      " 7   booking_platform              134590 non-null  category      \n",
      " 8   ratings_given                 134590 non-null  float64       \n",
      " 9   booking_status                134590 non-null  category      \n",
      " 10  revenue_generated             134590 non-null  int64         \n",
      " 11  revenue_realized              134590 non-null  int64         \n",
      " 12  property_name                 134590 non-null  object        \n",
      " 13  property_category             134590 non-null  category      \n",
      " 14  property_city                 134590 non-null  category      \n",
      " 15  day_of_week_checkin           134590 non-null  int32         \n",
      " 16  is_weekend_checkin            134590 non-null  bool          \n",
      " 17  day_name_checkin              134590 non-null  object        \n",
      " 18  month_year                    134590 non-null  period[M]     \n",
      " 19  quarter                       134590 non-null  int32         \n",
      " 20  month_name                    134590 non-null  object        \n",
      " 21  week_number                   134590 non-null  UInt32        \n",
      " 22  revenue_gap                   134590 non-null  int64         \n",
      " 23  revenue_realization_rate      134590 non-null  float64       \n",
      " 24  revenue_per_guest             134590 non-null  float64       \n",
      " 25  stay_duration                 134590 non-null  int64         \n",
      " 26  spending_per_guest_per_night  134590 non-null  float64       \n",
      " 27  booking_lead_time             134590 non-null  int64         \n",
      " 28  same_day_booking              134590 non-null  bool          \n",
      " 29  guest_density                 134590 non-null  int64         \n",
      " 30  revenue_per_guest_quartile    134590 non-null  category      \n",
      " 31  stay_duration_category        134590 non-null  category      \n",
      " 32  advance_booking               134590 non-null  bool          \n",
      " 33  last_minute_booking           134590 non-null  bool          \n",
      " 34  adr_per_guest                 134590 non-null  float64       \n",
      " 35  is_successful_booking         134590 non-null  bool          \n",
      " 36  high_rating                   134590 non-null  bool          \n",
      "dtypes: UInt32(1), bool(6), category(7), datetime64[ns](3), float64(5), int32(2), int64(8), object(4), period[M](1)\n",
      "memory usage: 24.9+ MB\n"
     ]
    }
   ],
   "source": [
    "fact_bookings.info()"
   ]
  },
  {
   "cell_type": "code",
   "execution_count": null,
   "id": "87d059fc",
   "metadata": {
    "papermill": {
     "duration": 0.008466,
     "end_time": "2025-06-01T13:39:33.055183",
     "exception": false,
     "start_time": "2025-06-01T13:39:33.046717",
     "status": "completed"
    },
    "tags": []
   },
   "outputs": [],
   "source": []
  }
 ],
 "metadata": {
  "kaggle": {
   "accelerator": "none",
   "dataSources": [
    {
     "datasetId": 7406101,
     "sourceId": 11794348,
     "sourceType": "datasetVersion"
    },
    {
     "datasetId": 7419316,
     "sourceId": 11812700,
     "sourceType": "datasetVersion"
    }
   ],
   "dockerImageVersionId": 31040,
   "isGpuEnabled": false,
   "isInternetEnabled": true,
   "language": "python",
   "sourceType": "notebook"
  },
  "kernelspec": {
   "display_name": "Python 3",
   "language": "python",
   "name": "python3"
  },
  "language_info": {
   "codemirror_mode": {
    "name": "ipython",
    "version": 3
   },
   "file_extension": ".py",
   "mimetype": "text/x-python",
   "name": "python",
   "nbconvert_exporter": "python",
   "pygments_lexer": "ipython3",
   "version": "3.11.11"
  },
  "papermill": {
   "default_parameters": {},
   "duration": 14.17317,
   "end_time": "2025-06-01T13:39:33.783943",
   "environment_variables": {},
   "exception": null,
   "input_path": "__notebook__.ipynb",
   "output_path": "__notebook__.ipynb",
   "parameters": {},
   "start_time": "2025-06-01T13:39:19.610773",
   "version": "2.6.0"
  }
 },
 "nbformat": 4,
 "nbformat_minor": 5
}
