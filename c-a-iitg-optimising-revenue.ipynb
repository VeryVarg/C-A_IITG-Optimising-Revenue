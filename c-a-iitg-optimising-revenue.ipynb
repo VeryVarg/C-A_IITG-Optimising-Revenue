{
 "cells": [
  {
   "cell_type": "code",
   "execution_count": 1,
   "id": "49cbaffd",
   "metadata": {
    "_cell_guid": "b1076dfc-b9ad-4769-8c92-a6c4dae69d19",
    "_uuid": "8f2839f25d086af736a60e9eeb907d3b93b6e0e5",
    "execution": {
     "iopub.execute_input": "2025-05-13T10:48:26.142939Z",
     "iopub.status.busy": "2025-05-13T10:48:26.142065Z",
     "iopub.status.idle": "2025-05-13T10:48:27.998460Z",
     "shell.execute_reply": "2025-05-13T10:48:27.997407Z"
    },
    "papermill": {
     "duration": 1.862396,
     "end_time": "2025-05-13T10:48:28.000140",
     "exception": false,
     "start_time": "2025-05-13T10:48:26.137744",
     "status": "completed"
    },
    "tags": []
   },
   "outputs": [
    {
     "name": "stdout",
     "output_type": "stream",
     "text": [
      "/kaggle/input/optimising-revenue-dataset/PS2/fact_aggregated_bookings.csv\n",
      "/kaggle/input/optimising-revenue-dataset/PS2/dim_hotels.csv\n",
      "/kaggle/input/optimising-revenue-dataset/PS2/dim_rooms.csv\n",
      "/kaggle/input/optimising-revenue-dataset/PS2/dim_date.csv\n",
      "/kaggle/input/optimising-revenue-dataset/PS2/fact_bookings.csv\n"
     ]
    }
   ],
   "source": [
    "# This Python 3 environment comes with many helpful analytics libraries installed\n",
    "# It is defined by the kaggle/python Docker image: https://github.com/kaggle/docker-python\n",
    "# For example, here's several helpful packages to load\n",
    "\n",
    "import numpy as np # linear algebra\n",
    "import pandas as pd # data processing, CSV file I/O (e.g. pd.read_csv)\n",
    "\n",
    "# Input data files are available in the read-only \"../input/\" directory\n",
    "# For example, running this (by clicking run or pressing Shift+Enter) will list all files under the input directory\n",
    "\n",
    "import os\n",
    "for dirname, _, filenames in os.walk('/kaggle/input'):\n",
    "    for filename in filenames:\n",
    "        print(os.path.join(dirname, filename))\n",
    "\n",
    "# You can write up to 20GB to the current directory (/kaggle/working/) that gets preserved as output when you create a version using \"Save & Run All\" \n",
    "# You can also write temporary files to /kaggle/temp/, but they won't be saved outside of the current session"
   ]
  },
  {
   "cell_type": "code",
   "execution_count": 2,
   "id": "3ab3cdb9",
   "metadata": {
    "execution": {
     "iopub.execute_input": "2025-05-13T10:48:28.007306Z",
     "iopub.status.busy": "2025-05-13T10:48:28.006586Z",
     "iopub.status.idle": "2025-05-13T10:48:28.560564Z",
     "shell.execute_reply": "2025-05-13T10:48:28.559787Z"
    },
    "papermill": {
     "duration": 0.558945,
     "end_time": "2025-05-13T10:48:28.562180",
     "exception": false,
     "start_time": "2025-05-13T10:48:28.003235",
     "status": "completed"
    },
    "tags": []
   },
   "outputs": [],
   "source": [
    "dim_date = pd.read_csv(\"/kaggle/input/optimising-revenue-dataset/PS2/dim_date.csv\")\n",
    "dim_hotels = pd.read_csv(\"/kaggle/input/optimising-revenue-dataset/PS2/dim_hotels.csv\")\n",
    "dim_rooms = pd.read_csv(\"/kaggle/input/optimising-revenue-dataset/PS2/dim_rooms.csv\")\n",
    "fact_aggregated_bookings = pd.read_csv(\"/kaggle/input/optimising-revenue-dataset/PS2/fact_aggregated_bookings.csv\")\n",
    "fact_bookings = pd.read_csv(\"/kaggle/input/optimising-revenue-dataset/PS2/fact_bookings.csv\")"
   ]
  },
  {
   "cell_type": "code",
   "execution_count": 3,
   "id": "a4f706c7",
   "metadata": {
    "execution": {
     "iopub.execute_input": "2025-05-13T10:48:28.571036Z",
     "iopub.status.busy": "2025-05-13T10:48:28.570262Z",
     "iopub.status.idle": "2025-05-13T10:48:28.574842Z",
     "shell.execute_reply": "2025-05-13T10:48:28.574130Z"
    },
    "papermill": {
     "duration": 0.009553,
     "end_time": "2025-05-13T10:48:28.576112",
     "exception": false,
     "start_time": "2025-05-13T10:48:28.566559",
     "status": "completed"
    },
    "tags": []
   },
   "outputs": [],
   "source": [
    "dataframes = [dim_date,dim_hotels,dim_rooms,fact_aggregated_bookings,fact_bookings]"
   ]
  },
  {
   "cell_type": "code",
   "execution_count": 4,
   "id": "4820a6ea",
   "metadata": {
    "execution": {
     "iopub.execute_input": "2025-05-13T10:48:28.582270Z",
     "iopub.status.busy": "2025-05-13T10:48:28.581943Z",
     "iopub.status.idle": "2025-05-13T10:48:28.606546Z",
     "shell.execute_reply": "2025-05-13T10:48:28.605738Z"
    },
    "papermill": {
     "duration": 0.029362,
     "end_time": "2025-05-13T10:48:28.607959",
     "exception": false,
     "start_time": "2025-05-13T10:48:28.578597",
     "status": "completed"
    },
    "tags": []
   },
   "outputs": [
    {
     "data": {
      "text/html": [
       "<div>\n",
       "<style scoped>\n",
       "    .dataframe tbody tr th:only-of-type {\n",
       "        vertical-align: middle;\n",
       "    }\n",
       "\n",
       "    .dataframe tbody tr th {\n",
       "        vertical-align: top;\n",
       "    }\n",
       "\n",
       "    .dataframe thead th {\n",
       "        text-align: right;\n",
       "    }\n",
       "</style>\n",
       "<table border=\"1\" class=\"dataframe\">\n",
       "  <thead>\n",
       "    <tr style=\"text-align: right;\">\n",
       "      <th></th>\n",
       "      <th>date</th>\n",
       "      <th>mmm yy</th>\n",
       "      <th>week no</th>\n",
       "      <th>day_type</th>\n",
       "    </tr>\n",
       "  </thead>\n",
       "  <tbody>\n",
       "    <tr>\n",
       "      <th>0</th>\n",
       "      <td>01-May-22</td>\n",
       "      <td>May 22</td>\n",
       "      <td>W 19</td>\n",
       "      <td>weekend</td>\n",
       "    </tr>\n",
       "    <tr>\n",
       "      <th>1</th>\n",
       "      <td>02-May-22</td>\n",
       "      <td>May 22</td>\n",
       "      <td>W 19</td>\n",
       "      <td>weekeday</td>\n",
       "    </tr>\n",
       "    <tr>\n",
       "      <th>2</th>\n",
       "      <td>03-May-22</td>\n",
       "      <td>May 22</td>\n",
       "      <td>W 19</td>\n",
       "      <td>weekeday</td>\n",
       "    </tr>\n",
       "    <tr>\n",
       "      <th>3</th>\n",
       "      <td>04-May-22</td>\n",
       "      <td>May 22</td>\n",
       "      <td>W 19</td>\n",
       "      <td>weekeday</td>\n",
       "    </tr>\n",
       "    <tr>\n",
       "      <th>4</th>\n",
       "      <td>05-May-22</td>\n",
       "      <td>May 22</td>\n",
       "      <td>W 19</td>\n",
       "      <td>weekeday</td>\n",
       "    </tr>\n",
       "  </tbody>\n",
       "</table>\n",
       "</div>"
      ],
      "text/plain": [
       "        date  mmm yy week no  day_type\n",
       "0  01-May-22  May 22    W 19   weekend\n",
       "1  02-May-22  May 22    W 19  weekeday\n",
       "2  03-May-22  May 22    W 19  weekeday\n",
       "3  04-May-22  May 22    W 19  weekeday\n",
       "4  05-May-22  May 22    W 19  weekeday"
      ]
     },
     "execution_count": 4,
     "metadata": {},
     "output_type": "execute_result"
    }
   ],
   "source": [
    "dim_date.head()"
   ]
  },
  {
   "cell_type": "code",
   "execution_count": 5,
   "id": "52bee162",
   "metadata": {
    "execution": {
     "iopub.execute_input": "2025-05-13T10:48:28.614815Z",
     "iopub.status.busy": "2025-05-13T10:48:28.614156Z",
     "iopub.status.idle": "2025-05-13T10:48:28.705201Z",
     "shell.execute_reply": "2025-05-13T10:48:28.704292Z"
    },
    "papermill": {
     "duration": 0.095833,
     "end_time": "2025-05-13T10:48:28.706601",
     "exception": false,
     "start_time": "2025-05-13T10:48:28.610768",
     "status": "completed"
    },
    "tags": []
   },
   "outputs": [
    {
     "name": "stdout",
     "output_type": "stream",
     "text": [
      "<class 'pandas.core.frame.DataFrame'>\n",
      "RangeIndex: 92 entries, 0 to 91\n",
      "Data columns (total 4 columns):\n",
      " #   Column    Non-Null Count  Dtype \n",
      "---  ------    --------------  ----- \n",
      " 0   date      92 non-null     object\n",
      " 1   mmm yy    92 non-null     object\n",
      " 2   week no   92 non-null     object\n",
      " 3   day_type  92 non-null     object\n",
      "dtypes: object(4)\n",
      "memory usage: 3.0+ KB\n",
      "None\n",
      "<class 'pandas.core.frame.DataFrame'>\n",
      "RangeIndex: 25 entries, 0 to 24\n",
      "Data columns (total 4 columns):\n",
      " #   Column         Non-Null Count  Dtype \n",
      "---  ------         --------------  ----- \n",
      " 0   property_id    25 non-null     int64 \n",
      " 1   property_name  25 non-null     object\n",
      " 2   category       25 non-null     object\n",
      " 3   city           25 non-null     object\n",
      "dtypes: int64(1), object(3)\n",
      "memory usage: 932.0+ bytes\n",
      "None\n",
      "<class 'pandas.core.frame.DataFrame'>\n",
      "RangeIndex: 4 entries, 0 to 3\n",
      "Data columns (total 2 columns):\n",
      " #   Column      Non-Null Count  Dtype \n",
      "---  ------      --------------  ----- \n",
      " 0   room_id     4 non-null      object\n",
      " 1   room_class  4 non-null      object\n",
      "dtypes: object(2)\n",
      "memory usage: 196.0+ bytes\n",
      "None\n",
      "<class 'pandas.core.frame.DataFrame'>\n",
      "RangeIndex: 9200 entries, 0 to 9199\n",
      "Data columns (total 5 columns):\n",
      " #   Column               Non-Null Count  Dtype \n",
      "---  ------               --------------  ----- \n",
      " 0   property_id          9200 non-null   int64 \n",
      " 1   check_in_date        9200 non-null   object\n",
      " 2   room_category        9200 non-null   object\n",
      " 3   successful_bookings  9200 non-null   int64 \n",
      " 4   capacity             9200 non-null   int64 \n",
      "dtypes: int64(3), object(2)\n",
      "memory usage: 359.5+ KB\n",
      "None\n",
      "<class 'pandas.core.frame.DataFrame'>\n",
      "RangeIndex: 134590 entries, 0 to 134589\n",
      "Data columns (total 12 columns):\n",
      " #   Column             Non-Null Count   Dtype  \n",
      "---  ------             --------------   -----  \n",
      " 0   booking_id         134590 non-null  object \n",
      " 1   property_id        134590 non-null  int64  \n",
      " 2   booking_date       134590 non-null  object \n",
      " 3   check_in_date      134590 non-null  object \n",
      " 4   checkout_date      134590 non-null  object \n",
      " 5   no_guests          134590 non-null  int64  \n",
      " 6   room_category      134590 non-null  object \n",
      " 7   booking_platform   134590 non-null  object \n",
      " 8   ratings_given      56683 non-null   float64\n",
      " 9   booking_status     134590 non-null  object \n",
      " 10  revenue_generated  134590 non-null  int64  \n",
      " 11  revenue_realized   134590 non-null  int64  \n",
      "dtypes: float64(1), int64(4), object(7)\n",
      "memory usage: 12.3+ MB\n",
      "None\n"
     ]
    }
   ],
   "source": [
    "for i in dataframes:\n",
    "    print(i.info())"
   ]
  },
  {
   "cell_type": "code",
   "execution_count": 6,
   "id": "1938bf16",
   "metadata": {
    "execution": {
     "iopub.execute_input": "2025-05-13T10:48:28.713340Z",
     "iopub.status.busy": "2025-05-13T10:48:28.712656Z",
     "iopub.status.idle": "2025-05-13T10:48:28.727093Z",
     "shell.execute_reply": "2025-05-13T10:48:28.726181Z"
    },
    "papermill": {
     "duration": 0.018954,
     "end_time": "2025-05-13T10:48:28.728361",
     "exception": false,
     "start_time": "2025-05-13T10:48:28.709407",
     "status": "completed"
    },
    "tags": []
   },
   "outputs": [
    {
     "name": "stdout",
     "output_type": "stream",
     "text": [
      "        date  mmm yy week no  day_type\n",
      "0  01-May-22  May 22    W 19   weekend\n",
      "1  02-May-22  May 22    W 19  weekeday\n",
      "2  03-May-22  May 22    W 19  weekeday\n",
      "3  04-May-22  May 22    W 19  weekeday\n",
      "4  05-May-22  May 22    W 19  weekeday\n",
      "5  06-May-22  May 22    W 19  weekeday\n",
      "6  07-May-22  May 22    W 19   weekend\n",
      "7  08-May-22  May 22    W 20   weekend\n",
      "8  09-May-22  May 22    W 20  weekeday\n",
      "9  10-May-22  May 22    W 20  weekeday\n",
      "\n",
      "\n",
      "   property_id  property_name  category    city\n",
      "0        16558   Atliq Grands    Luxury   Delhi\n",
      "1        16559  Atliq Exotica    Luxury  Mumbai\n",
      "2        16560     Atliq City  Business   Delhi\n",
      "3        16561      Atliq Blu    Luxury   Delhi\n",
      "4        16562      Atliq Bay    Luxury   Delhi\n",
      "5        16563   Atliq Palace  Business   Delhi\n",
      "6        17558   Atliq Grands    Luxury  Mumbai\n",
      "7        17559  Atliq Exotica    Luxury  Mumbai\n",
      "8        17560     Atliq City  Business  Mumbai\n",
      "9        17561      Atliq Blu    Luxury  Mumbai\n",
      "\n",
      "\n",
      "  room_id    room_class\n",
      "0     RT1      Standard\n",
      "1     RT2         Elite\n",
      "2     RT3       Premium\n",
      "3     RT4  Presidential\n",
      "\n",
      "\n",
      "   property_id check_in_date room_category  successful_bookings  capacity\n",
      "0        16559     01-May-22           RT1                   25        30\n",
      "1        19562     01-May-22           RT1                   28        30\n",
      "2        19563     01-May-22           RT1                   23        30\n",
      "3        17558     01-May-22           RT1                   13        19\n",
      "4        16558     01-May-22           RT1                   18        19\n",
      "5        17560     01-May-22           RT1                   28        40\n",
      "6        19558     01-May-22           RT1                   25        40\n",
      "7        19560     01-May-22           RT1                   23        26\n",
      "8        17561     01-May-22           RT1                   22        26\n",
      "9        16560     01-May-22           RT1                   24        34\n",
      "\n",
      "\n",
      "          booking_id  property_id booking_date check_in_date checkout_date  \\\n",
      "0   May012216558RT11        16558   2022-04-27    2022-05-01    2022-05-02   \n",
      "1   May012216558RT12        16558   2022-04-30    2022-05-01    2022-05-02   \n",
      "2   May012216558RT13        16558   2022-04-28    2022-05-01    2022-05-04   \n",
      "3   May012216558RT14        16558   2022-04-28    2022-05-01    2022-05-02   \n",
      "4   May012216558RT15        16558   2022-04-27    2022-05-01    2022-05-02   \n",
      "5   May012216558RT16        16558   2022-05-01    2022-05-01    2022-05-03   \n",
      "6   May012216558RT17        16558   2022-04-28    2022-05-01    2022-05-06   \n",
      "7   May012216558RT18        16558   2022-04-26    2022-05-01    2022-05-03   \n",
      "8   May012216558RT19        16558   2022-04-30    2022-05-01    2022-05-02   \n",
      "9  May012216558RT110        16558   2022-04-28    2022-05-01    2022-05-02   \n",
      "\n",
      "   no_guests room_category booking_platform  ratings_given booking_status  \\\n",
      "0          3           RT1    direct online            1.0    Checked Out   \n",
      "1          2           RT1           others            NaN      Cancelled   \n",
      "2          2           RT1          logtrip            5.0    Checked Out   \n",
      "3          2           RT1           others            NaN      Cancelled   \n",
      "4          4           RT1    direct online            5.0    Checked Out   \n",
      "5          2           RT1           others            4.0    Checked Out   \n",
      "6          2           RT1           others            NaN      Cancelled   \n",
      "7          2           RT1          logtrip            NaN        No Show   \n",
      "8          2           RT1         tripster            NaN    Checked Out   \n",
      "9          1           RT1           others            4.0    Checked Out   \n",
      "\n",
      "   revenue_generated  revenue_realized  \n",
      "0              10010             10010  \n",
      "1               9100              3640  \n",
      "2               9100              9100  \n",
      "3               9100              3640  \n",
      "4              10920             10920  \n",
      "5               9100              9100  \n",
      "6               9100              3640  \n",
      "7               9100              9100  \n",
      "8               9100              9100  \n",
      "9               9100              9100  \n",
      "\n",
      "\n"
     ]
    },
    {
     "name": "stderr",
     "output_type": "stream",
     "text": [
      "/usr/local/lib/python3.11/dist-packages/pandas/io/formats/format.py:1458: RuntimeWarning: invalid value encountered in greater\n",
      "  has_large_values = (abs_vals > 1e6).any()\n",
      "/usr/local/lib/python3.11/dist-packages/pandas/io/formats/format.py:1459: RuntimeWarning: invalid value encountered in less\n",
      "  has_small_values = ((abs_vals < 10 ** (-self.digits)) & (abs_vals > 0)).any()\n",
      "/usr/local/lib/python3.11/dist-packages/pandas/io/formats/format.py:1459: RuntimeWarning: invalid value encountered in greater\n",
      "  has_small_values = ((abs_vals < 10 ** (-self.digits)) & (abs_vals > 0)).any()\n"
     ]
    }
   ],
   "source": [
    "for i in dataframes:\n",
    "    print(i.head(10))\n",
    "    print(\"\\n\")"
   ]
  },
  {
   "cell_type": "markdown",
   "id": "ca1709f0",
   "metadata": {
    "papermill": {
     "duration": 0.002613,
     "end_time": "2025-05-13T10:48:28.733934",
     "exception": false,
     "start_time": "2025-05-13T10:48:28.731321",
     "status": "completed"
    },
    "tags": []
   },
   "source": [
    "dim_date table needs corrected date format, delete its \"mm yy\" column (data redundancy), removing w from each row of week number and convert into integer, day_type should be converted into category\n",
    "\n",
    "\n"
   ]
  },
  {
   "cell_type": "markdown",
   "id": "e21204e5",
   "metadata": {
    "papermill": {
     "duration": 0.002458,
     "end_time": "2025-05-13T10:48:28.739106",
     "exception": false,
     "start_time": "2025-05-13T10:48:28.736648",
     "status": "completed"
    },
    "tags": []
   },
   "source": [
    "dim_hotels needs to convert city and category into category format"
   ]
  },
  {
   "cell_type": "markdown",
   "id": "8bfb1c9b",
   "metadata": {
    "papermill": {
     "duration": 0.002464,
     "end_time": "2025-05-13T10:48:28.744258",
     "exception": false,
     "start_time": "2025-05-13T10:48:28.741794",
     "status": "completed"
    },
    "tags": []
   },
   "source": [
    "dim_rooms is perfect"
   ]
  },
  {
   "cell_type": "markdown",
   "id": "77017606",
   "metadata": {
    "papermill": {
     "duration": 0.002414,
     "end_time": "2025-05-13T10:48:28.749298",
     "exception": false,
     "start_time": "2025-05-13T10:48:28.746884",
     "status": "completed"
    },
    "tags": []
   },
   "source": [
    "fact_aggregated_bookings needs check-in date into corrected date format, room_category into category type"
   ]
  },
  {
   "cell_type": "markdown",
   "id": "e38311b7",
   "metadata": {
    "papermill": {
     "duration": 0.00239,
     "end_time": "2025-05-13T10:48:28.754242",
     "exception": false,
     "start_time": "2025-05-13T10:48:28.751852",
     "status": "completed"
    },
    "tags": []
   },
   "source": [
    "fact_bookings has missing values in ratings_given column, booking & checkin & checkout dates must be converted into date type, room_category & booking_platform & booking_status into category, "
   ]
  },
  {
   "cell_type": "code",
   "execution_count": null,
   "id": "40ab1535",
   "metadata": {
    "papermill": {
     "duration": 0.002389,
     "end_time": "2025-05-13T10:48:28.759196",
     "exception": false,
     "start_time": "2025-05-13T10:48:28.756807",
     "status": "completed"
    },
    "tags": []
   },
   "outputs": [],
   "source": []
  }
 ],
 "metadata": {
  "kaggle": {
   "accelerator": "none",
   "dataSources": [
    {
     "datasetId": 7406101,
     "sourceId": 11794348,
     "sourceType": "datasetVersion"
    }
   ],
   "dockerImageVersionId": 31040,
   "isGpuEnabled": false,
   "isInternetEnabled": true,
   "language": "python",
   "sourceType": "notebook"
  },
  "kernelspec": {
   "display_name": "Python 3",
   "language": "python",
   "name": "python3"
  },
  "language_info": {
   "codemirror_mode": {
    "name": "ipython",
    "version": 3
   },
   "file_extension": ".py",
   "mimetype": "text/x-python",
   "name": "python",
   "nbconvert_exporter": "python",
   "pygments_lexer": "ipython3",
   "version": "3.11.11"
  },
  "papermill": {
   "default_parameters": {},
   "duration": 7.751043,
   "end_time": "2025-05-13T10:48:29.280250",
   "environment_variables": {},
   "exception": null,
   "input_path": "__notebook__.ipynb",
   "output_path": "__notebook__.ipynb",
   "parameters": {},
   "start_time": "2025-05-13T10:48:21.529207",
   "version": "2.6.0"
  }
 },
 "nbformat": 4,
 "nbformat_minor": 5
}
